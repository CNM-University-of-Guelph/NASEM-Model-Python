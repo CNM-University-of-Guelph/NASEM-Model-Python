{
 "cells": [
  {
   "cell_type": "markdown",
   "metadata": {},
   "source": [
    "# Execute the execute_model\n",
    "\n",
    "Testing end-user experience of executing the nasem_dairy model using in-built data"
   ]
  },
  {
   "cell_type": "code",
   "execution_count": 3,
   "metadata": {},
   "outputs": [],
   "source": [
    "# Refactoring NASEM model\n",
    "import nasem_dairy as nd\n",
    "import pandas as pd\n",
    "\n",
    "import nasem_dairy.ration_balancer.constants as constants\n",
    "\n",
    "# use package dir to always use /data folder regardless of where this is executed from\n",
    "from importlib.resources import files\n",
    "import os\n",
    "\n",
    "path_to_package_data = files(\"nasem_dairy.data\")\n"
   ]
  },
  {
   "cell_type": "markdown",
   "metadata": {},
   "source": [
    "# Lactating cow - main testing example"
   ]
  },
  {
   "cell_type": "code",
   "execution_count": 2,
   "metadata": {},
   "outputs": [
    {
     "name": "stderr",
     "output_type": "stream",
     "text": [
      "/Users/dave/Library/CloudStorage/OneDrive-UniversityofGuelph/UoG/UoG Python/NASEM-Model-Python/src/nasem_dairy/NASEM_equations/micronutrient_requirement_equations.py:1173: RuntimeWarning: invalid value encountered in scalar divide\n",
      "  Dt_acCo = Abs_CoIn / Dt_CoIn  # Line 3230\n"
     ]
    },
    {
     "data": {
      "text/html": [
       "\n",
       "        <div>\n",
       "            <h2>Model Output Snapshot</h2>\n",
       "            <table border=\"1\" class=\"dataframe\">\n",
       "  <thead>\n",
       "    <tr style=\"text-align: right;\">\n",
       "      <th>Description</th>\n",
       "      <th>Value</th>\n",
       "    </tr>\n",
       "  </thead>\n",
       "  <tbody>\n",
       "    <tr>\n",
       "      <td>Milk production kg (Mlk_Prod_comp)</td>\n",
       "      <td>35.569</td>\n",
       "    </tr>\n",
       "    <tr>\n",
       "      <td>Milk fat g/g (MlkFat_Milk)</td>\n",
       "      <td>0.053</td>\n",
       "    </tr>\n",
       "    <tr>\n",
       "      <td>Milk protein g/g (MlkNP_Milk)</td>\n",
       "      <td>0.042</td>\n",
       "    </tr>\n",
       "    <tr>\n",
       "      <td>Milk Production - MP allowable kg (Mlk_Prod_MPalow)</td>\n",
       "      <td>35.906</td>\n",
       "    </tr>\n",
       "    <tr>\n",
       "      <td>Milk Production - NE allowable kg (Mlk_Prod_NEalow)</td>\n",
       "      <td>31.498</td>\n",
       "    </tr>\n",
       "    <tr>\n",
       "      <td>Animal ME intake Mcal/d (An_MEIn)</td>\n",
       "      <td>60.273</td>\n",
       "    </tr>\n",
       "    <tr>\n",
       "      <td>Target ME use Mcal/d (Trg_MEuse)</td>\n",
       "      <td>52.195</td>\n",
       "    </tr>\n",
       "    <tr>\n",
       "      <td>Animal MP intake g/d (An_MPIn_g)</td>\n",
       "      <td>2565.214</td>\n",
       "    </tr>\n",
       "    <tr>\n",
       "      <td>Animal MP use g/d (An_MPuse_g_Trg)</td>\n",
       "      <td>1989.985</td>\n",
       "    </tr>\n",
       "    <tr>\n",
       "      <td>Animal RDP intake g/d (An_RDPIn_g)</td>\n",
       "      <td>3556.058</td>\n",
       "    </tr>\n",
       "    <tr>\n",
       "      <td>Diet DCAD meq (An_DCADmeq)</td>\n",
       "      <td>96.453</td>\n",
       "    </tr>\n",
       "  </tbody>\n",
       "</table>\n",
       "            <hr>\n",
       "            \n",
       "        <details>\n",
       "            <summary><strong>Click this drop-down for ModelOutput description</strong></summary>\n",
       "            <p>This is a <code>ModelOutput</code> object returned by <code>nd.execute_model()</code>.</p>\n",
       "            <p>Each of the following categories can be called directly as methods, for example, if the name of my object is <code>output</code>, I would call <code>output.Production</code> to see the contents of Production.</p>\n",
       "            <p>The following list shows which dictionaries are within each category:</p>\n",
       "            <ul>\n",
       "        <li><b>Inputs:</b> user_diet, animal_input, equation_selection, coeff_dict, infusion_input, MP_NP_efficiency_input, mPrt_coeff, f_Imb</li><li><b>Intakes:</b> diet_info, infusion_data, diet_data, An_data, energy, protein, AA, FA, rumen_digestable, water</li><li><b>Requirements:</b> energy, protein, vitamin, mineral, mineral_requirements</li><li><b>Production:</b> milk, body_composition, gestation, MiCP</li><li><b>Excretion:</b> fecal, urinary, gaseous, scurf</li><li><b>Digestibility:</b> rumen, TT</li><li><b>Efficiencies:</b> energy, protein, mineral</li><li><b>Miscellaneous:</b> misc, post_execute_calcs</li>\n",
       "            </ul>\n",
       "            <div>\n",
       "                <p>These outputs can be accessed by name, e.g., <code>output.Production['milk']['Mlk_Prod']</code>.</p>\n",
       "                <p>There is also a <code>.search()</code> method which takes a string and will return a dataframe of all outputs with that string (case insensitive), e.g., <code>output.search('Mlk')</code>.</p>\n",
       "                <p>An individual output can be retrieved directly by providing its exact name to the <code>.get_value()</code> method, e.g., <code>output.get_value('Mlk_Prod')</code>.</p>\n",
       "            </div>\n",
       "        </details>\n",
       "        \n",
       "        </div>\n",
       "        "
      ],
      "text/plain": [
       "<nasem_dairy.ration_balancer.ModelOutput.ModelOutput at 0x121ca12e0>"
      ]
     },
     "execution_count": 2,
     "metadata": {},
     "output_type": "execute_result"
    }
   ],
   "source": [
    "# Read_csv to load required data into env\n",
    "user_diet_in, animal_input_in, equation_selection_in = nd.read_csv_input(path_to_package_data.joinpath(\"input.csv\"))\n",
    "\n",
    "# Load feed library\n",
    "feed_library_in = pd.read_csv(path_to_package_data.joinpath(\"NASEM_feed_library.csv\"))\n",
    "\n",
    "## RUN MODEL ###\n",
    "output = nd.execute_model(\n",
    "    user_diet = user_diet_in, \n",
    "    animal_input = animal_input_in, \n",
    "    equation_selection = equation_selection_in, \n",
    "    feed_library_df = feed_library_in, \n",
    "    coeff_dict = nd.coeff_dict)\n",
    "\n",
    "output"
   ]
  },
  {
   "cell_type": "markdown",
   "metadata": {},
   "source": [
    "## mPrt_eqn testing"
   ]
  },
  {
   "cell_type": "code",
   "execution_count": 24,
   "metadata": {},
   "outputs": [
    {
     "name": "stdout",
     "output_type": "stream",
     "text": [
      "All values match the default coefficients.\n"
     ]
    },
    {
     "name": "stderr",
     "output_type": "stream",
     "text": [
      "/Users/dave/Library/CloudStorage/OneDrive-UniversityofGuelph/UoG/UoG Python/NASEM-Model-Python/src/nasem_dairy/NASEM_equations/micronutrient_requirement_equations.py:1173: RuntimeWarning: invalid value encountered in scalar divide\n",
      "  Dt_acCo = Abs_CoIn / Dt_CoIn  # Line 3230\n"
     ]
    },
    {
     "data": {
      "text/plain": [
       "1201.8533585203634"
      ]
     },
     "execution_count": 24,
     "metadata": {},
     "output_type": "execute_result"
    }
   ],
   "source": [
    "# Read_csv to load required data into env\n",
    "user_diet_in, animal_input_in, equation_selection_in = nd.read_csv_input(path_to_package_data.joinpath(\"input.csv\"))\n",
    "\n",
    "# Load feed library\n",
    "feed_library_in = pd.read_csv(path_to_package_data.joinpath(\"NASEM_feed_library.csv\"))\n",
    "\n",
    "eqn_custom = equation_selection_in.copy()\n",
    "eqn_custom['mPrt_eqn'] = 3\n",
    "\n",
    "## RUN MODEL ###\n",
    "output = nd.execute_model(\n",
    "    user_diet = user_diet_in, \n",
    "    animal_input = animal_input_in, \n",
    "    equation_selection = eqn_custom, \n",
    "    feed_library_df = feed_library_in, \n",
    "    coeff_dict = nd.coeff_dict,\n",
    "    infusion_input= nd.infusion_dict,\n",
    "    MP_NP_efficiency_input= nd.MP_NP_efficiency_dict,\n",
    "    mPrt_coeff_list= nd.mPrt_coeff_list,\n",
    "    f_Imb=constants.f_Imb)\n",
    "\n",
    "output.search('_src')\n",
    "\n",
    "# This is the value that should change between 0 (target), 1, 2 and 3 - which it does\n",
    "output.get_value('Mlk_NP_g')"
   ]
  },
  {
   "cell_type": "code",
   "execution_count": 6,
   "metadata": {},
   "outputs": [
    {
     "data": {
      "text/html": [
       "<div>\n",
       "<style scoped>\n",
       "    .dataframe tbody tr th:only-of-type {\n",
       "        vertical-align: middle;\n",
       "    }\n",
       "\n",
       "    .dataframe tbody tr th {\n",
       "        vertical-align: top;\n",
       "    }\n",
       "\n",
       "    .dataframe thead th {\n",
       "        text-align: right;\n",
       "    }\n",
       "</style>\n",
       "<table border=\"1\" class=\"dataframe\">\n",
       "  <thead>\n",
       "    <tr style=\"text-align: right;\">\n",
       "      <th></th>\n",
       "      <th>Target Performance:</th>\n",
       "    </tr>\n",
       "  </thead>\n",
       "  <tbody>\n",
       "    <tr>\n",
       "      <th>Milk Production</th>\n",
       "      <td>25.062</td>\n",
       "    </tr>\n",
       "    <tr>\n",
       "      <th>Energy/Protein Corrected Milk, kg/d</th>\n",
       "      <td>30.002347</td>\n",
       "    </tr>\n",
       "    <tr>\n",
       "      <th>Milk Fat, %</th>\n",
       "      <td>4.55</td>\n",
       "    </tr>\n",
       "    <tr>\n",
       "      <th>Milk True Protein</th>\n",
       "      <td>3.66</td>\n",
       "    </tr>\n",
       "    <tr>\n",
       "      <th>Milk Lactose, %</th>\n",
       "      <td>4.85</td>\n",
       "    </tr>\n",
       "    <tr>\n",
       "      <th>Milk Fat, kg/d</th>\n",
       "      <td>1.140321</td>\n",
       "    </tr>\n",
       "    <tr>\n",
       "      <th>Milk True Protein, kg/d</th>\n",
       "      <td>None</td>\n",
       "    </tr>\n",
       "    <tr>\n",
       "      <th>Milk Lactose, kg/d</th>\n",
       "      <td>1.215507</td>\n",
       "    </tr>\n",
       "    <tr>\n",
       "      <th>Frame Gain, kg/d</th>\n",
       "      <td>0.19</td>\n",
       "    </tr>\n",
       "    <tr>\n",
       "      <th>Body Reserves Gain, kg/d</th>\n",
       "      <td>0.0</td>\n",
       "    </tr>\n",
       "    <tr>\n",
       "      <th>Gravid Uterine Gain, kg/d</th>\n",
       "      <td>0</td>\n",
       "    </tr>\n",
       "    <tr>\n",
       "      <th>Total Gain, kg/d</th>\n",
       "      <td>0.19359</td>\n",
       "    </tr>\n",
       "  </tbody>\n",
       "</table>\n",
       "</div>"
      ],
      "text/plain": [
       "                                    Target Performance:\n",
       "Milk Production                                  25.062\n",
       "Energy/Protein Corrected Milk, kg/d           30.002347\n",
       "Milk Fat, %                                        4.55\n",
       "Milk True Protein                                  3.66\n",
       "Milk Lactose, %                                    4.85\n",
       "Milk Fat, kg/d                                 1.140321\n",
       "Milk True Protein, kg/d                            None\n",
       "Milk Lactose, kg/d                             1.215507\n",
       "Frame Gain, kg/d                                   0.19\n",
       "Body Reserves Gain, kg/d                            0.0\n",
       "Gravid Uterine Gain, kg/d                             0\n",
       "Total Gain, kg/d                                0.19359"
      ]
     },
     "execution_count": 6,
     "metadata": {},
     "output_type": "execute_result"
    }
   ],
   "source": [
    "output.report_target_performance()"
   ]
  },
  {
   "cell_type": "code",
   "execution_count": 13,
   "metadata": {},
   "outputs": [
    {
     "data": {
      "text/html": [
       "<div>\n",
       "<style scoped>\n",
       "    .dataframe tbody tr th:only-of-type {\n",
       "        vertical-align: middle;\n",
       "    }\n",
       "\n",
       "    .dataframe tbody tr th {\n",
       "        vertical-align: top;\n",
       "    }\n",
       "\n",
       "    .dataframe thead th {\n",
       "        text-align: right;\n",
       "    }\n",
       "</style>\n",
       "<table border=\"1\" class=\"dataframe\">\n",
       "  <thead>\n",
       "    <tr style=\"text-align: right;\">\n",
       "      <th></th>\n",
       "      <th>Name</th>\n",
       "      <th>Value</th>\n",
       "    </tr>\n",
       "  </thead>\n",
       "  <tbody>\n",
       "    <tr>\n",
       "      <th>0</th>\n",
       "      <td>mPrt_k_NEAA</td>\n",
       "      <td>0</td>\n",
       "    </tr>\n",
       "    <tr>\n",
       "      <th>1</th>\n",
       "      <td>mPrt_k_OthAA</td>\n",
       "      <td>0.0773</td>\n",
       "    </tr>\n",
       "    <tr>\n",
       "      <th>2</th>\n",
       "      <td>mPrt_k_NEAA_src</td>\n",
       "      <td>0</td>\n",
       "    </tr>\n",
       "    <tr>\n",
       "      <th>3</th>\n",
       "      <td>mPrt_k_OthAA_src</td>\n",
       "      <td>0.0773</td>\n",
       "    </tr>\n",
       "    <tr>\n",
       "      <th>4</th>\n",
       "      <td>mPrt_k_EAA2_src</td>\n",
       "      <td>-0.00215</td>\n",
       "    </tr>\n",
       "    <tr>\n",
       "      <th>...</th>\n",
       "      <td>...</td>\n",
       "      <td>...</td>\n",
       "    </tr>\n",
       "    <tr>\n",
       "      <th>77</th>\n",
       "      <td>CaProd_CaAbs</td>\n",
       "      <td>0.416807</td>\n",
       "    </tr>\n",
       "    <tr>\n",
       "      <th>78</th>\n",
       "      <td>NaProd_NaAbs</td>\n",
       "      <td>0.595526</td>\n",
       "    </tr>\n",
       "    <tr>\n",
       "      <th>79</th>\n",
       "      <td>mPrt_k_EAA2</td>\n",
       "      <td>-0.00215</td>\n",
       "    </tr>\n",
       "    <tr>\n",
       "      <th>80</th>\n",
       "      <td>Trg_EAAUse_g</td>\n",
       "      <td>680.688486</td>\n",
       "    </tr>\n",
       "    <tr>\n",
       "      <th>81</th>\n",
       "      <td>Trg_AbsEAA_g</td>\n",
       "      <td>878.803758</td>\n",
       "    </tr>\n",
       "  </tbody>\n",
       "</table>\n",
       "<p>82 rows × 2 columns</p>\n",
       "</div>"
      ],
      "text/plain": [
       "                Name       Value\n",
       "0        mPrt_k_NEAA           0\n",
       "1       mPrt_k_OthAA      0.0773\n",
       "2    mPrt_k_NEAA_src           0\n",
       "3   mPrt_k_OthAA_src      0.0773\n",
       "4    mPrt_k_EAA2_src    -0.00215\n",
       "..               ...         ...\n",
       "77      CaProd_CaAbs    0.416807\n",
       "78      NaProd_NaAbs    0.595526\n",
       "79       mPrt_k_EAA2    -0.00215\n",
       "80      Trg_EAAUse_g  680.688486\n",
       "81      Trg_AbsEAA_g  878.803758\n",
       "\n",
       "[82 rows x 2 columns]"
      ]
     },
     "execution_count": 13,
     "metadata": {},
     "output_type": "execute_result"
    }
   ],
   "source": [
    "output.search(\"AA\")"
   ]
  },
  {
   "cell_type": "code",
   "execution_count": 3,
   "metadata": {},
   "outputs": [
    {
     "data": {
      "text/plain": [
       "{'macro_minerals':   Mineral  Diet Density, % DM  Required Diet Density, % of DM  AC, g/100 g  \\\n",
       " 0      Ca            0.777556                        0.553019     0.393136   \n",
       " 1       P            0.509533                        0.289750     0.726186   \n",
       " 2      Mg            0.329873                        0.146443     0.296190   \n",
       " 3      Cl            0.330739                        0.232588     0.920000   \n",
       " 4       K            1.446560                        0.914846     1.000000   \n",
       " 5      Na            0.070471                        0.186967     1.000000   \n",
       " 6       S            0.339094                        0.200000          NaN   \n",
       " \n",
       "    Absorb Required (TAR), g/d  Diet Supply (TDS), g/d  \\\n",
       " 0                   53.311517              190.664458   \n",
       " 1                   51.595252              124.942709   \n",
       " 2                   10.635976               80.888103   \n",
       " 3                   52.470310               81.100469   \n",
       " 4                  224.329500              354.711042   \n",
       " 5                   45.846250               17.280190   \n",
       " 6                   49.042000               83.149181   \n",
       " \n",
       "    Absorbed Supply (TAS), g/d  Balance (TAS - TAR), g/d  Met. Fecal, g/d  \\\n",
       " 0                   74.957085                 21.645568         22.06890   \n",
       " 1                   90.731593                 39.136342         24.52100   \n",
       " 2                   23.958237                 13.322260          7.35630   \n",
       " 3                   74.612432                 22.142122         27.21831   \n",
       " 4                  354.711042                130.381542         61.30250   \n",
       " 5                   17.280190                -28.566060         35.55545   \n",
       " 6                         NaN                 34.107181              NaN   \n",
       " \n",
       "    End. Urine g/d  Pregn. Req., g/d  Lact. Req., g/d  Growth Req., g/d  \n",
       " 0             NaN          0.011604        29.316024          1.914990  \n",
       " 1        0.374877          0.012293        25.556134          1.130948  \n",
       " 2        0.437356          0.000000         2.756820          0.085500  \n",
       " 3             NaN          0.000000        25.062000          0.190000  \n",
       " 4      124.959000          0.000000        37.593000          0.475000  \n",
       " 5             NaN          0.000000        10.024800          0.266000  \n",
       " 6             NaN               NaN              NaN               NaN  ,\n",
       " 'micro_minerals':   Mineral  Diet, mg/kg  Diet Required, mg/kg     AC  Absorb Requir., mg/d  \\\n",
       " 0      Co     0.000000              0.200000    NaN              4.904200   \n",
       " 1      Cr     0.224888                   NaN    NaN                   NaN   \n",
       " 2      Cu     6.199549              8.516788  0.050             10.442008   \n",
       " 3      Fe   431.157489             12.855104  0.100             31.522000   \n",
       " 4       I     0.000000              0.365879    NaN              8.971716   \n",
       " 5      Mn    44.302112             25.583449  0.004              2.509327   \n",
       " 6      Se     0.431875              0.300000    NaN              7.356300   \n",
       " 7      Zn    35.338438             46.371070  0.200            227.413000   \n",
       " \n",
       "    Intake, mg/d  Absorbed, mg/d  Balance, mg/d  Maintenance, mg/d  \\\n",
       " 0      0.000000        0.000000      -4.904200                NaN   \n",
       " 1      5.514488             NaN            NaN                NaN   \n",
       " 2    152.019143        7.600957      -2.841050           9.059527   \n",
       " 3  10572.412797     1057.241280    1025.719280           0.000000   \n",
       " 4      0.000000             NaN      -8.971716                NaN   \n",
       " 5   1086.332094        4.345328       1.836001           1.624467   \n",
       " 6     10.590007             NaN       3.233707                NaN   \n",
       " 7    866.533842      173.306768     -54.106232         122.605000   \n",
       " \n",
       "    Pregn. Req., mg/d  Lact. Req., mg/d  Growth Req., mg/d  \n",
       " 0                NaN               NaN                NaN  \n",
       " 1                NaN               NaN                NaN  \n",
       " 2                0.0           1.00248              0.380  \n",
       " 3                0.0          25.06200              6.460  \n",
       " 4                NaN               NaN                NaN  \n",
       " 5                0.0           0.75186              0.133  \n",
       " 6                NaN               NaN                NaN  \n",
       " 7                0.0         100.24800              4.560  }"
      ]
     },
     "execution_count": 3,
     "metadata": {},
     "output_type": "execute_result"
    }
   ],
   "source": [
    "output.report_minerals()\n"
   ]
  },
  {
   "cell_type": "code",
   "execution_count": 12,
   "metadata": {},
   "outputs": [
    {
     "data": {
      "text/html": [
       "<div>\n",
       "<style scoped>\n",
       "    .dataframe tbody tr th:only-of-type {\n",
       "        vertical-align: middle;\n",
       "    }\n",
       "\n",
       "    .dataframe tbody tr th {\n",
       "        vertical-align: top;\n",
       "    }\n",
       "\n",
       "    .dataframe thead th {\n",
       "        text-align: right;\n",
       "    }\n",
       "</style>\n",
       "<table border=\"1\" class=\"dataframe\">\n",
       "  <thead>\n",
       "    <tr style=\"text-align: right;\">\n",
       "      <th></th>\n",
       "      <th>Target Performance:</th>\n",
       "    </tr>\n",
       "  </thead>\n",
       "  <tbody>\n",
       "    <tr>\n",
       "      <th>Milk Production</th>\n",
       "      <td>25.062</td>\n",
       "    </tr>\n",
       "    <tr>\n",
       "      <th>Energy/Protein Corrected Milk, kg/d</th>\n",
       "      <td>30.002347</td>\n",
       "    </tr>\n",
       "    <tr>\n",
       "      <th>Milk Fat, %</th>\n",
       "      <td>4.55</td>\n",
       "    </tr>\n",
       "    <tr>\n",
       "      <th>Milk True Protein</th>\n",
       "      <td>3.66</td>\n",
       "    </tr>\n",
       "    <tr>\n",
       "      <th>Milk Lactose, %</th>\n",
       "      <td>4.85</td>\n",
       "    </tr>\n",
       "    <tr>\n",
       "      <th>Milk Fat, kg/d</th>\n",
       "      <td>1.140321</td>\n",
       "    </tr>\n",
       "    <tr>\n",
       "      <th>Milk True Protein, kg/d</th>\n",
       "      <td>None</td>\n",
       "    </tr>\n",
       "    <tr>\n",
       "      <th>Milk Lactose, kg/d</th>\n",
       "      <td>1.215507</td>\n",
       "    </tr>\n",
       "    <tr>\n",
       "      <th>Frame Gain, kg/d</th>\n",
       "      <td>0.19</td>\n",
       "    </tr>\n",
       "    <tr>\n",
       "      <th>Body Reserves Gain, kg/d</th>\n",
       "      <td>0.0</td>\n",
       "    </tr>\n",
       "    <tr>\n",
       "      <th>Gravid Uterine Gain, kg/d</th>\n",
       "      <td>0</td>\n",
       "    </tr>\n",
       "    <tr>\n",
       "      <th>Total Gain, kg/d</th>\n",
       "      <td>0.19359</td>\n",
       "    </tr>\n",
       "  </tbody>\n",
       "</table>\n",
       "</div>"
      ],
      "text/plain": [
       "                                    Target Performance:\n",
       "Milk Production                                  25.062\n",
       "Energy/Protein Corrected Milk, kg/d           30.002347\n",
       "Milk Fat, %                                        4.55\n",
       "Milk True Protein                                  3.66\n",
       "Milk Lactose, %                                    4.85\n",
       "Milk Fat, kg/d                                 1.140321\n",
       "Milk True Protein, kg/d                            None\n",
       "Milk Lactose, kg/d                             1.215507\n",
       "Frame Gain, kg/d                                   0.19\n",
       "Body Reserves Gain, kg/d                            0.0\n",
       "Gravid Uterine Gain, kg/d                             0\n",
       "Total Gain, kg/d                                0.19359"
      ]
     },
     "execution_count": 12,
     "metadata": {},
     "output_type": "execute_result"
    }
   ],
   "source": [
    "output.report_target_performance()\n",
    "# output.search('Trg_Mlk_NP_g')"
   ]
  },
  {
   "cell_type": "code",
   "execution_count": 9,
   "metadata": {},
   "outputs": [
    {
     "data": {
      "text/html": [
       "<div>\n",
       "<style scoped>\n",
       "    .dataframe tbody tr th:only-of-type {\n",
       "        vertical-align: middle;\n",
       "    }\n",
       "\n",
       "    .dataframe tbody tr th {\n",
       "        vertical-align: top;\n",
       "    }\n",
       "\n",
       "    .dataframe thead th {\n",
       "        text-align: right;\n",
       "    }\n",
       "</style>\n",
       "<table border=\"1\" class=\"dataframe\">\n",
       "  <thead>\n",
       "    <tr style=\"text-align: right;\">\n",
       "      <th></th>\n",
       "      <th>Name</th>\n",
       "      <th>Value</th>\n",
       "    </tr>\n",
       "  </thead>\n",
       "  <tbody>\n",
       "    <tr>\n",
       "      <th>0</th>\n",
       "      <td>An_AgeDay</td>\n",
       "      <td>820.8</td>\n",
       "    </tr>\n",
       "    <tr>\n",
       "      <th>1</th>\n",
       "      <td>An_AgeDryFdStart</td>\n",
       "      <td>14.0</td>\n",
       "    </tr>\n",
       "  </tbody>\n",
       "</table>\n",
       "</div>"
      ],
      "text/plain": [
       "               Name  Value\n",
       "0         An_AgeDay  820.8\n",
       "1  An_AgeDryFdStart   14.0"
      ]
     },
     "execution_count": 9,
     "metadata": {},
     "output_type": "execute_result"
    }
   ],
   "source": [
    "output.search('An_Age')"
   ]
  },
  {
   "cell_type": "markdown",
   "metadata": {},
   "source": [
    "## Dry cow"
   ]
  },
  {
   "cell_type": "code",
   "execution_count": null,
   "metadata": {},
   "outputs": [],
   "source": [
    "# Read_csv to load required data into env\n",
    "user_diet_in, animal_input_in, equation_selection_in = nd.read_csv_input(path_to_package_data.joinpath(\"input_drycow.csv\"))\n",
    "\n",
    "# Load feed library\n",
    "feed_library_in = pd.read_csv(path_to_package_data.joinpath(\"NASEM_feed_library.csv\"))\n",
    "\n",
    "## RUN MODEL ###\n",
    "output_drycow = nd.execute_model(\n",
    "    user_diet = user_diet_in, \n",
    "    animal_input = animal_input_in, \n",
    "    equation_selection = equation_selection_in, \n",
    "    feed_library_df = feed_library_in, \n",
    "    coeff_dict = nd.coeff_dict)\n",
    "\n",
    "output_drycow"
   ]
  },
  {
   "cell_type": "markdown",
   "metadata": {},
   "source": [
    "## Loop all input csv scenarios"
   ]
  },
  {
   "cell_type": "code",
   "execution_count": 5,
   "metadata": {},
   "outputs": [
    {
     "data": {
      "text/plain": [
       "['input_calf_liquid_solid_feed.csv',\n",
       " 'input_dry_cow_late_gestation.csv',\n",
       " 'input_jersey_replacement_heifer.csv',\n",
       " 'input_dry_cow_grazing.csv',\n",
       " 'input_guernsey_lactating.csv',\n",
       " 'input_drycow.csv']"
      ]
     },
     "execution_count": 5,
     "metadata": {},
     "output_type": "execute_result"
    }
   ],
   "source": [
    "# list data in inputs\n",
    "os.listdir(files('nasem_dairy').joinpath('data'))\n",
    "\n",
    "csv_input_files = [file for file in os.listdir(files('nasem_dairy').joinpath('data')) if file.startswith('input_')]\n",
    "csv_input_files"
   ]
  },
  {
   "cell_type": "code",
   "execution_count": 12,
   "metadata": {},
   "outputs": [],
   "source": [
    "def input_test(path_name):\n",
    "    print(path_name)\n",
    "    # Read_csv to load required data into env\n",
    "    user_diet_in, animal_input_in, equation_selection_in = nd.read_csv_input(path_to_package_data.joinpath(path_name))\n",
    "\n",
    "    # Load feed library\n",
    "    feed_library_in = pd.read_csv(path_to_package_data.joinpath(\"NASEM_feed_library.csv\"))\n",
    "\n",
    "    ## RUN MODEL ###\n",
    "    output = nd.execute_model(\n",
    "        user_diet = user_diet_in, \n",
    "        animal_input = animal_input_in, \n",
    "        equation_selection = equation_selection_in, \n",
    "        feed_library_df = feed_library_in, \n",
    "        coeff_dict = nd.coeff_dict)\n",
    "\n",
    "    return output"
   ]
  },
  {
   "cell_type": "code",
   "execution_count": 8,
   "metadata": {},
   "outputs": [],
   "source": [
    "# input_drycow.csv not working\n",
    "\n",
    "sub_csv = csv_input_files.copy()\n",
    "sub_csv.remove('input_drycow.csv')"
   ]
  },
  {
   "cell_type": "code",
   "execution_count": 13,
   "metadata": {},
   "outputs": [
    {
     "name": "stdout",
     "output_type": "stream",
     "text": [
      "input_calf_liquid_solid_feed.csv\n",
      "=====================\n",
      "Model Output Snapshot\n",
      "=====================\n",
      "Milk production kg (Mlk_Prod_comp): 10.736\n",
      "Milk fat g/g (MlkFat_Milk): 0\n",
      "Milk protein g/g (MlkNP_Milk): 0\n",
      "Milk Production - MP allowable kg (Mlk_Prod_MPalow): inf\n",
      "Milk Production - NE allowable kg (Mlk_Prod_NEalow): -inf\n",
      "Animal ME intake Mcal/d (An_MEIn): 3.783\n",
      "Target ME use Mcal/d (Trg_MEuse): 10.548\n",
      "Animal MP intake g/d (An_MPIn_g): 369.83\n",
      "Animal MP use g/d (An_MPuse_g_Trg): 348.874\n",
      "Animal RDP intake g/d (An_RDPIn_g): 448.66\n",
      "Diet DCAD meq (An_DCADmeq): 213.78\n",
      "\n",
      "This is a `ModelOutput` object with methods to access all model outputs. See help(ModelOutput).\n",
      "input_dry_cow_late_gestation.csv\n",
      "=====================\n",
      "Model Output Snapshot\n",
      "=====================\n",
      "Milk production kg (Mlk_Prod_comp): 18.782\n",
      "Milk fat g/g (MlkFat_Milk): 0\n",
      "Milk protein g/g (MlkNP_Milk): 0\n",
      "Milk Production - MP allowable kg (Mlk_Prod_MPalow): inf\n",
      "Milk Production - NE allowable kg (Mlk_Prod_NEalow): -inf\n",
      "Animal ME intake Mcal/d (An_MEIn): 26.65\n",
      "Target ME use Mcal/d (Trg_MEuse): 28.578\n",
      "Animal MP intake g/d (An_MPIn_g): 1015.016\n",
      "Animal MP use g/d (An_MPuse_g_Trg): 796.135\n",
      "Animal RDP intake g/d (An_RDPIn_g): 1005.78\n",
      "Diet DCAD meq (An_DCADmeq): -455.17\n",
      "\n",
      "This is a `ModelOutput` object with methods to access all model outputs. See help(ModelOutput).\n",
      "input_jersey_replacement_heifer.csv\n",
      "=====================\n",
      "Model Output Snapshot\n",
      "=====================\n",
      "Milk production kg (Mlk_Prod_comp): 14.265\n",
      "Milk fat g/g (MlkFat_Milk): 0\n",
      "Milk protein g/g (MlkNP_Milk): 0\n",
      "Milk Production - MP allowable kg (Mlk_Prod_MPalow): -inf\n",
      "Milk Production - NE allowable kg (Mlk_Prod_NEalow): inf\n",
      "Animal ME intake Mcal/d (An_MEIn): 35.619\n",
      "Target ME use Mcal/d (Trg_MEuse): 19.893\n",
      "Animal MP intake g/d (An_MPIn_g): 1086.194\n",
      "Animal MP use g/d (An_MPuse_g_Trg): 1143.727\n",
      "Animal RDP intake g/d (An_RDPIn_g): 1854.055\n",
      "Diet DCAD meq (An_DCADmeq): -25.725\n",
      "\n",
      "This is a `ModelOutput` object with methods to access all model outputs. See help(ModelOutput).\n",
      "input_dry_cow_grazing.csv\n"
     ]
    },
    {
     "name": "stderr",
     "output_type": "stream",
     "text": [
      "/Users/dave/Library/CloudStorage/OneDrive-UniversityofGuelph/UoG/UoG Python/NASEM-Model-Python/src/nasem_dairy/NASEM_equations/milk_equations.py:285: RuntimeWarning: divide by zero encountered in scalar divide\n",
      "  Mlk_Prod_MPalow = Mlk_NP_MPalow_Trg_g / (Trg_MilkTPp / 100) / 1000\n",
      "/Users/dave/Library/CloudStorage/OneDrive-UniversityofGuelph/UoG/UoG Python/NASEM-Model-Python/src/nasem_dairy/NASEM_equations/milk_equations.py:312: RuntimeWarning: divide by zero encountered in scalar divide\n",
      "  Mlk_Prod_NEalow = An_MEavail_Milk * coeff_dict['Kl_ME_NE'] / Trg_NEmilk_Milk\n",
      "/Users/dave/Library/CloudStorage/OneDrive-UniversityofGuelph/UoG/UoG Python/NASEM-Model-Python/src/nasem_dairy/NASEM_equations/milk_equations.py:566: RuntimeWarning: invalid value encountered in scalar multiply\n",
      "  12.97 * Trg_MilkFatp / 100 * Mlk_Prod_NEalow) + (\n",
      "/Users/dave/Library/CloudStorage/OneDrive-UniversityofGuelph/UoG/UoG Python/NASEM-Model-Python/src/nasem_dairy/NASEM_equations/milk_equations.py:567: RuntimeWarning: invalid value encountered in scalar multiply\n",
      "  7.65 * Trg_MilkTPp / 100 * Mlk_Prod_NEalow\n",
      "/Users/dave/Library/CloudStorage/OneDrive-UniversityofGuelph/UoG/UoG Python/NASEM-Model-Python/src/nasem_dairy/NASEM_equations/manure_equations.py:89: RuntimeWarning: divide by zero encountered in scalar divide\n",
      "  ManN_Milk = Man_Nout_g / Mlk_Prod  # g N / kg of milk, Line 3259\n",
      "/Users/dave/Library/CloudStorage/OneDrive-UniversityofGuelph/UoG/UoG Python/NASEM-Model-Python/src/nasem_dairy/NASEM_equations/milk_equations.py:285: RuntimeWarning: divide by zero encountered in scalar divide\n",
      "  Mlk_Prod_MPalow = Mlk_NP_MPalow_Trg_g / (Trg_MilkTPp / 100) / 1000\n",
      "/Users/dave/Library/CloudStorage/OneDrive-UniversityofGuelph/UoG/UoG Python/NASEM-Model-Python/src/nasem_dairy/NASEM_equations/milk_equations.py:312: RuntimeWarning: divide by zero encountered in scalar divide\n",
      "  Mlk_Prod_NEalow = An_MEavail_Milk * coeff_dict['Kl_ME_NE'] / Trg_NEmilk_Milk\n",
      "/Users/dave/Library/CloudStorage/OneDrive-UniversityofGuelph/UoG/UoG Python/NASEM-Model-Python/src/nasem_dairy/NASEM_equations/milk_equations.py:566: RuntimeWarning: invalid value encountered in scalar multiply\n",
      "  12.97 * Trg_MilkFatp / 100 * Mlk_Prod_NEalow) + (\n",
      "/Users/dave/Library/CloudStorage/OneDrive-UniversityofGuelph/UoG/UoG Python/NASEM-Model-Python/src/nasem_dairy/NASEM_equations/milk_equations.py:567: RuntimeWarning: invalid value encountered in scalar multiply\n",
      "  7.65 * Trg_MilkTPp / 100 * Mlk_Prod_NEalow\n",
      "/Users/dave/Library/CloudStorage/OneDrive-UniversityofGuelph/UoG/UoG Python/NASEM-Model-Python/src/nasem_dairy/NASEM_equations/body_composition_equations.py:576: RuntimeWarning: invalid value encountered in scalar divide\n",
      "  Body_Gain_NEalow = An_MEavail_Grw * Kg_ME_NE / Body_NEgain_BWgain # Line 2950\n",
      "/Users/dave/Library/CloudStorage/OneDrive-UniversityofGuelph/UoG/UoG Python/NASEM-Model-Python/src/nasem_dairy/NASEM_equations/manure_equations.py:89: RuntimeWarning: divide by zero encountered in scalar divide\n",
      "  ManN_Milk = Man_Nout_g / Mlk_Prod  # g N / kg of milk, Line 3259\n",
      "/Users/dave/Library/CloudStorage/OneDrive-UniversityofGuelph/UoG/UoG Python/NASEM-Model-Python/src/nasem_dairy/NASEM_equations/milk_equations.py:285: RuntimeWarning: divide by zero encountered in scalar divide\n",
      "  Mlk_Prod_MPalow = Mlk_NP_MPalow_Trg_g / (Trg_MilkTPp / 100) / 1000\n",
      "/Users/dave/Library/CloudStorage/OneDrive-UniversityofGuelph/UoG/UoG Python/NASEM-Model-Python/src/nasem_dairy/NASEM_equations/milk_equations.py:312: RuntimeWarning: divide by zero encountered in scalar divide\n",
      "  Mlk_Prod_NEalow = An_MEavail_Milk * coeff_dict['Kl_ME_NE'] / Trg_NEmilk_Milk\n",
      "/Users/dave/Library/CloudStorage/OneDrive-UniversityofGuelph/UoG/UoG Python/NASEM-Model-Python/src/nasem_dairy/NASEM_equations/milk_equations.py:566: RuntimeWarning: invalid value encountered in scalar multiply\n",
      "  12.97 * Trg_MilkFatp / 100 * Mlk_Prod_NEalow) + (\n",
      "/Users/dave/Library/CloudStorage/OneDrive-UniversityofGuelph/UoG/UoG Python/NASEM-Model-Python/src/nasem_dairy/NASEM_equations/milk_equations.py:567: RuntimeWarning: invalid value encountered in scalar multiply\n",
      "  7.65 * Trg_MilkTPp / 100 * Mlk_Prod_NEalow\n",
      "/Users/dave/Library/CloudStorage/OneDrive-UniversityofGuelph/UoG/UoG Python/NASEM-Model-Python/src/nasem_dairy/NASEM_equations/micronutrient_requirement_equations.py:1173: RuntimeWarning: invalid value encountered in scalar divide\n",
      "  Dt_acCo = Abs_CoIn / Dt_CoIn  # Line 3230\n",
      "/Users/dave/Library/CloudStorage/OneDrive-UniversityofGuelph/UoG/UoG Python/NASEM-Model-Python/src/nasem_dairy/NASEM_equations/manure_equations.py:89: RuntimeWarning: divide by zero encountered in scalar divide\n",
      "  ManN_Milk = Man_Nout_g / Mlk_Prod  # g N / kg of milk, Line 3259\n",
      "/Users/dave/Library/CloudStorage/OneDrive-UniversityofGuelph/UoG/UoG Python/NASEM-Model-Python/src/nasem_dairy/NASEM_equations/milk_equations.py:285: RuntimeWarning: divide by zero encountered in scalar divide\n",
      "  Mlk_Prod_MPalow = Mlk_NP_MPalow_Trg_g / (Trg_MilkTPp / 100) / 1000\n",
      "/Users/dave/Library/CloudStorage/OneDrive-UniversityofGuelph/UoG/UoG Python/NASEM-Model-Python/src/nasem_dairy/NASEM_equations/milk_equations.py:312: RuntimeWarning: divide by zero encountered in scalar divide\n",
      "  Mlk_Prod_NEalow = An_MEavail_Milk * coeff_dict['Kl_ME_NE'] / Trg_NEmilk_Milk\n",
      "/Users/dave/Library/CloudStorage/OneDrive-UniversityofGuelph/UoG/UoG Python/NASEM-Model-Python/src/nasem_dairy/NASEM_equations/milk_equations.py:566: RuntimeWarning: invalid value encountered in scalar multiply\n",
      "  12.97 * Trg_MilkFatp / 100 * Mlk_Prod_NEalow) + (\n",
      "/Users/dave/Library/CloudStorage/OneDrive-UniversityofGuelph/UoG/UoG Python/NASEM-Model-Python/src/nasem_dairy/NASEM_equations/milk_equations.py:567: RuntimeWarning: invalid value encountered in scalar multiply\n",
      "  7.65 * Trg_MilkTPp / 100 * Mlk_Prod_NEalow\n",
      "/Users/dave/Library/CloudStorage/OneDrive-UniversityofGuelph/UoG/UoG Python/NASEM-Model-Python/src/nasem_dairy/NASEM_equations/manure_equations.py:89: RuntimeWarning: divide by zero encountered in scalar divide\n",
      "  ManN_Milk = Man_Nout_g / Mlk_Prod  # g N / kg of milk, Line 3259\n"
     ]
    },
    {
     "name": "stdout",
     "output_type": "stream",
     "text": [
      "=====================\n",
      "Model Output Snapshot\n",
      "=====================\n",
      "Milk production kg (Mlk_Prod_comp): 17.99\n",
      "Milk fat g/g (MlkFat_Milk): 0\n",
      "Milk protein g/g (MlkNP_Milk): 0\n",
      "Milk Production - MP allowable kg (Mlk_Prod_MPalow): inf\n",
      "Milk Production - NE allowable kg (Mlk_Prod_NEalow): inf\n",
      "Animal ME intake Mcal/d (An_MEIn): 29.117\n",
      "Target ME use Mcal/d (Trg_MEuse): 25.408\n",
      "Animal MP intake g/d (An_MPIn_g): 1334.34\n",
      "Animal MP use g/d (An_MPuse_g_Trg): 656.197\n",
      "Animal RDP intake g/d (An_RDPIn_g): 2207.43\n",
      "Diet DCAD meq (An_DCADmeq): -170.532\n",
      "\n",
      "This is a `ModelOutput` object with methods to access all model outputs. See help(ModelOutput).\n",
      "input_guernsey_lactating.csv\n",
      "=====================\n",
      "Model Output Snapshot\n",
      "=====================\n",
      "Milk production kg (Mlk_Prod_comp): 37.807\n",
      "Milk fat g/g (MlkFat_Milk): 0.05\n",
      "Milk protein g/g (MlkNP_Milk): 0.03\n",
      "Milk Production - MP allowable kg (Mlk_Prod_MPalow): 33.801\n",
      "Milk Production - NE allowable kg (Mlk_Prod_NEalow): 42.244\n",
      "Animal ME intake Mcal/d (An_MEIn): 69.924\n",
      "Target ME use Mcal/d (Trg_MEuse): 53.7\n",
      "Animal MP intake g/d (An_MPIn_g): 2280.743\n",
      "Animal MP use g/d (An_MPuse_g_Trg): 2044.159\n",
      "Animal RDP intake g/d (An_RDPIn_g): 2578.53\n",
      "Diet DCAD meq (An_DCADmeq): 143.235\n",
      "\n",
      "This is a `ModelOutput` object with methods to access all model outputs. See help(ModelOutput).\n"
     ]
    },
    {
     "name": "stderr",
     "output_type": "stream",
     "text": [
      "/Users/dave/Library/CloudStorage/OneDrive-UniversityofGuelph/UoG/UoG Python/NASEM-Model-Python/src/nasem_dairy/NASEM_equations/micronutrient_requirement_equations.py:1173: RuntimeWarning: invalid value encountered in scalar divide\n",
      "  Dt_acCo = Abs_CoIn / Dt_CoIn  # Line 3230\n"
     ]
    },
    {
     "data": {
      "text/plain": [
       "[None, None, None, None, None]"
      ]
     },
     "execution_count": 13,
     "metadata": {},
     "output_type": "execute_result"
    }
   ],
   "source": [
    "# Execute each scenario and print output.\n",
    "[print(input_test(path)) for path in sub_csv]"
   ]
  },
  {
   "cell_type": "markdown",
   "metadata": {},
   "source": [
    "# Run single scenario"
   ]
  },
  {
   "cell_type": "code",
   "execution_count": 14,
   "metadata": {},
   "outputs": [
    {
     "name": "stdout",
     "output_type": "stream",
     "text": [
      "input.csv\n"
     ]
    },
    {
     "name": "stderr",
     "output_type": "stream",
     "text": [
      "/Users/dave/Library/CloudStorage/OneDrive-UniversityofGuelph/UoG/UoG Python/NASEM-Model-Python/src/nasem_dairy/NASEM_equations/micronutrient_requirement_equations.py:1173: RuntimeWarning: invalid value encountered in scalar divide\n",
      "  Dt_acCo = Abs_CoIn / Dt_CoIn  # Line 3230\n"
     ]
    },
    {
     "data": {
      "text/html": [
       "\n",
       "        <div>\n",
       "            <h2>Model Output Snapshot</h2>\n",
       "            <table border=\"1\" class=\"dataframe\">\n",
       "  <thead>\n",
       "    <tr style=\"text-align: right;\">\n",
       "      <th>Description</th>\n",
       "      <th>Value</th>\n",
       "    </tr>\n",
       "  </thead>\n",
       "  <tbody>\n",
       "    <tr>\n",
       "      <td>Milk production kg (Mlk_Prod_comp)</td>\n",
       "      <td>35.569</td>\n",
       "    </tr>\n",
       "    <tr>\n",
       "      <td>Milk fat g/g (MlkFat_Milk)</td>\n",
       "      <td>0.053</td>\n",
       "    </tr>\n",
       "    <tr>\n",
       "      <td>Milk protein g/g (MlkNP_Milk)</td>\n",
       "      <td>0.042</td>\n",
       "    </tr>\n",
       "    <tr>\n",
       "      <td>Milk Production - MP allowable kg (Mlk_Prod_MPalow)</td>\n",
       "      <td>35.906</td>\n",
       "    </tr>\n",
       "    <tr>\n",
       "      <td>Milk Production - NE allowable kg (Mlk_Prod_NEalow)</td>\n",
       "      <td>31.498</td>\n",
       "    </tr>\n",
       "    <tr>\n",
       "      <td>Animal ME intake Mcal/d (An_MEIn)</td>\n",
       "      <td>60.273</td>\n",
       "    </tr>\n",
       "    <tr>\n",
       "      <td>Target ME use Mcal/d (Trg_MEuse)</td>\n",
       "      <td>52.195</td>\n",
       "    </tr>\n",
       "    <tr>\n",
       "      <td>Animal MP intake g/d (An_MPIn_g)</td>\n",
       "      <td>2565.214</td>\n",
       "    </tr>\n",
       "    <tr>\n",
       "      <td>Animal MP use g/d (An_MPuse_g_Trg)</td>\n",
       "      <td>1989.985</td>\n",
       "    </tr>\n",
       "    <tr>\n",
       "      <td>Animal RDP intake g/d (An_RDPIn_g)</td>\n",
       "      <td>3556.058</td>\n",
       "    </tr>\n",
       "    <tr>\n",
       "      <td>Diet DCAD meq (An_DCADmeq)</td>\n",
       "      <td>96.453</td>\n",
       "    </tr>\n",
       "  </tbody>\n",
       "</table>\n",
       "            <hr>\n",
       "            \n",
       "        <details>\n",
       "            <summary><strong>Click this drop-down for ModelOutput description</strong></summary>\n",
       "            <p>This is a <code>ModelOutput</code> object returned by <code>nd.execute_model()</code>.</p>\n",
       "            <p>Each of the following categories can be called directly as methods, for example, if the name of my object is <code>output</code>, I would call <code>output.Production</code> to see the contents of Production.</p>\n",
       "            <p>The following list shows which dictionaries are within each category:</p>\n",
       "            <ul>\n",
       "        <li><b>Inputs:</b> user_diet, animal_input, equation_selection, coeff_dict, infusion_input, MP_NP_efficiency_input, mPrt_coeff, f_Imb</li><li><b>Intakes:</b> diet_info, infusion_data, diet_data, An_data, energy, protein, AA, FA, rumen_digestable, water</li><li><b>Requirements:</b> energy, protein, vitamin, mineral, mineral_requirements</li><li><b>Production:</b> milk, body_composition, gestation, MiCP</li><li><b>Excretion:</b> fecal, urinary, gaseous, scurf</li><li><b>Digestibility:</b> rumen, TT</li><li><b>Efficiencies:</b> energy, protein, mineral</li><li><b>Miscellaneous:</b> misc</li>\n",
       "            </ul>\n",
       "            <div>\n",
       "                <p>These outputs can be accessed by name, e.g., <code>output.Production['milk']['Mlk_Prod']</code>.</p>\n",
       "                <p>There is also a <code>.search()</code> method which takes a string and will return a dataframe of all outputs with that string (case insensitive), e.g., <code>output.search('Mlk')</code>.</p>\n",
       "                <p>An individual output can be retrieved directly by providing its exact name to the <code>.get_value()</code> method, e.g., <code>output.get_value('Mlk_Prod')</code>.</p>\n",
       "            </div>\n",
       "        </details>\n",
       "        \n",
       "        </div>\n",
       "        "
      ],
      "text/plain": [
       "<nasem_dairy.ration_balancer.ModelOutput.ModelOutput at 0x11c070290>"
      ]
     },
     "execution_count": 14,
     "metadata": {},
     "output_type": "execute_result"
    }
   ],
   "source": [
    "input_test('input.csv')"
   ]
  },
  {
   "cell_type": "markdown",
   "metadata": {},
   "source": [
    "# iterate DMIn_eqn\n",
    "Currently missing eqn 1\n"
   ]
  },
  {
   "cell_type": "code",
   "execution_count": 68,
   "metadata": {},
   "outputs": [
    {
     "name": "stderr",
     "output_type": "stream",
     "text": [
      "/Users/dave/Library/CloudStorage/OneDrive-UniversityofGuelph/UoG/UoG Python/NASEM-Model-Python/src/nasem_dairy/NASEM_equations/micronutrient_requirement_equations.py:1173: RuntimeWarning: invalid value encountered in scalar divide\n",
      "  Dt_acCo = Abs_CoIn / Dt_CoIn  # Line 3230\n",
      "/Users/dave/Library/CloudStorage/OneDrive-UniversityofGuelph/UoG/UoG Python/NASEM-Model-Python/src/nasem_dairy/NASEM_equations/micronutrient_requirement_equations.py:1173: RuntimeWarning: invalid value encountered in scalar divide\n",
      "  Dt_acCo = Abs_CoIn / Dt_CoIn  # Line 3230\n",
      "/Users/dave/Library/CloudStorage/OneDrive-UniversityofGuelph/UoG/UoG Python/NASEM-Model-Python/src/nasem_dairy/NASEM_equations/micronutrient_requirement_equations.py:1173: RuntimeWarning: invalid value encountered in scalar divide\n",
      "  Dt_acCo = Abs_CoIn / Dt_CoIn  # Line 3230\n",
      "/Users/dave/Library/CloudStorage/OneDrive-UniversityofGuelph/UoG/UoG Python/NASEM-Model-Python/src/nasem_dairy/NASEM_equations/micronutrient_requirement_equations.py:1173: RuntimeWarning: invalid value encountered in scalar divide\n",
      "  Dt_acCo = Abs_CoIn / Dt_CoIn  # Line 3230\n",
      "/Users/dave/Library/CloudStorage/OneDrive-UniversityofGuelph/UoG/UoG Python/NASEM-Model-Python/src/nasem_dairy/NASEM_equations/micronutrient_requirement_equations.py:1173: RuntimeWarning: invalid value encountered in scalar divide\n",
      "  Dt_acCo = Abs_CoIn / Dt_CoIn  # Line 3230\n",
      "/Users/dave/Library/CloudStorage/OneDrive-UniversityofGuelph/UoG/UoG Python/NASEM-Model-Python/src/nasem_dairy/NASEM_equations/micronutrient_requirement_equations.py:1173: RuntimeWarning: invalid value encountered in scalar divide\n",
      "  Dt_acCo = Abs_CoIn / Dt_CoIn  # Line 3230\n"
     ]
    },
    {
     "name": "stdout",
     "output_type": "stream",
     "text": [
      "DMIn_eqn uncaught - DMI not changed. equation_selection[DMIn_eqn]: 1\n"
     ]
    },
    {
     "name": "stderr",
     "output_type": "stream",
     "text": [
      "/Users/dave/Library/CloudStorage/OneDrive-UniversityofGuelph/UoG/UoG Python/NASEM-Model-Python/src/nasem_dairy/NASEM_equations/micronutrient_requirement_equations.py:1173: RuntimeWarning: invalid value encountered in scalar divide\n",
      "  Dt_acCo = Abs_CoIn / Dt_CoIn  # Line 3230\n",
      "/Users/dave/Library/CloudStorage/OneDrive-UniversityofGuelph/UoG/UoG Python/NASEM-Model-Python/src/nasem_dairy/NASEM_equations/micronutrient_requirement_equations.py:1173: RuntimeWarning: invalid value encountered in scalar divide\n",
      "  Dt_acCo = Abs_CoIn / Dt_CoIn  # Line 3230\n",
      "/Users/dave/Library/CloudStorage/OneDrive-UniversityofGuelph/UoG/UoG Python/NASEM-Model-Python/src/nasem_dairy/NASEM_equations/micronutrient_requirement_equations.py:1173: RuntimeWarning: invalid value encountered in scalar divide\n",
      "  Dt_acCo = Abs_CoIn / Dt_CoIn  # Line 3230\n",
      "/Users/dave/Library/CloudStorage/OneDrive-UniversityofGuelph/UoG/UoG Python/NASEM-Model-Python/src/nasem_dairy/NASEM_equations/micronutrient_requirement_equations.py:1173: RuntimeWarning: invalid value encountered in scalar divide\n",
      "  Dt_acCo = Abs_CoIn / Dt_CoIn  # Line 3230\n",
      "/Users/dave/Library/CloudStorage/OneDrive-UniversityofGuelph/UoG/UoG Python/NASEM-Model-Python/src/nasem_dairy/NASEM_equations/micronutrient_requirement_equations.py:1173: RuntimeWarning: invalid value encountered in scalar divide\n",
      "  Dt_acCo = Abs_CoIn / Dt_CoIn  # Line 3230\n",
      "/Users/dave/Library/CloudStorage/OneDrive-UniversityofGuelph/UoG/UoG Python/NASEM-Model-Python/src/nasem_dairy/NASEM_equations/micronutrient_requirement_equations.py:1173: RuntimeWarning: invalid value encountered in scalar divide\n",
      "  Dt_acCo = Abs_CoIn / Dt_CoIn  # Line 3230\n",
      "/Users/dave/Library/CloudStorage/OneDrive-UniversityofGuelph/UoG/UoG Python/NASEM-Model-Python/src/nasem_dairy/NASEM_equations/micronutrient_requirement_equations.py:1173: RuntimeWarning: invalid value encountered in scalar divide\n",
      "  Dt_acCo = Abs_CoIn / Dt_CoIn  # Line 3230\n",
      "/Users/dave/Library/CloudStorage/OneDrive-UniversityofGuelph/UoG/UoG Python/NASEM-Model-Python/src/nasem_dairy/NASEM_equations/micronutrient_requirement_equations.py:1173: RuntimeWarning: invalid value encountered in scalar divide\n",
      "  Dt_acCo = Abs_CoIn / Dt_CoIn  # Line 3230\n",
      "/Users/dave/Library/CloudStorage/OneDrive-UniversityofGuelph/UoG/UoG Python/NASEM-Model-Python/src/nasem_dairy/NASEM_equations/micronutrient_requirement_equations.py:1173: RuntimeWarning: invalid value encountered in scalar divide\n",
      "  Dt_acCo = Abs_CoIn / Dt_CoIn  # Line 3230\n",
      "/Users/dave/Library/CloudStorage/OneDrive-UniversityofGuelph/UoG/UoG Python/NASEM-Model-Python/src/nasem_dairy/NASEM_equations/micronutrient_requirement_equations.py:1173: RuntimeWarning: invalid value encountered in scalar divide\n",
      "  Dt_acCo = Abs_CoIn / Dt_CoIn  # Line 3230\n"
     ]
    },
    {
     "data": {
      "text/plain": [
       "[24.521,\n",
       " 24.521,\n",
       " 11.504513756424398,\n",
       " 16.842879057296294,\n",
       " 11.474631902511609,\n",
       " 12.805095156214884,\n",
       " 10.866105707801568,\n",
       " 12.2518161120828,\n",
       " 21.453799372589593,\n",
       " 22.022810104356388,\n",
       " 12.323872852316462,\n",
       " 12.364693050000001,\n",
       " 11.504513756424398,\n",
       " 16.842879057296294,\n",
       " 11.474631902511609,\n",
       " 12.805095156214884]"
      ]
     },
     "execution_count": 68,
     "metadata": {},
     "output_type": "execute_result"
    }
   ],
   "source": [
    "# make function to test all values\n",
    "def iterate_test_DMI_eqns(DMIn_eqn):\n",
    "    equation_selection_in_test = equation_selection_in.copy()\n",
    "    equation_selection_in_test['DMIn_eqn'] = DMIn_eqn\n",
    "\n",
    "    output = nd.execute_model(\n",
    "        user_diet = user_diet_in, \n",
    "        animal_input = animal_input_in, \n",
    "        equation_selection = equation_selection_in_test, \n",
    "        feed_library_df = feed_library_in, \n",
    "        coeff_dict = nd.coeff_dict)\n",
    "\n",
    "    return (output.get_value('DMI'))\n",
    "\n",
    "[iterate_test_DMI_eqns(DMIn_eqn_value) for DMIn_eqn_value in range(0, 16)]\n"
   ]
  }
 ],
 "metadata": {
  "kernelspec": {
   "display_name": "NASEM_model_poetry",
   "language": "python",
   "name": "python3"
  },
  "language_info": {
   "codemirror_mode": {
    "name": "ipython",
    "version": 3
   },
   "file_extension": ".py",
   "mimetype": "text/x-python",
   "name": "python",
   "nbconvert_exporter": "python",
   "pygments_lexer": "ipython3",
   "version": "3.12.4"
  }
 },
 "nbformat": 4,
 "nbformat_minor": 2
}
