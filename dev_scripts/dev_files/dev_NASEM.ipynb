{
 "cells": [
  {
   "cell_type": "markdown",
   "metadata": {},
   "source": [
    "# Execute the execute_model\n",
    "\n",
    "Testing end-user experience of executing the nasem_dairy model using in-built data"
   ]
  },
  {
   "cell_type": "code",
   "execution_count": 10,
   "metadata": {},
   "outputs": [],
   "source": [
    "# Refactoring NASEM model\n",
    "import nasem_dairy as nd\n",
    "import pandas as pd\n",
    "\n",
    "# use package dir to always use /data folder regardless of where this is executed from\n",
    "from importlib.resources import files\n",
    "import os\n",
    "\n",
    "path_to_package_data = files(\"nasem_dairy.data\")\n"
   ]
  },
  {
   "cell_type": "markdown",
   "metadata": {},
   "source": [
    "# Lactating cow - main testing example"
   ]
  },
  {
   "cell_type": "code",
   "execution_count": 4,
   "metadata": {},
   "outputs": [
    {
     "ename": "NameError",
     "evalue": "name 'pd' is not defined",
     "output_type": "error",
     "traceback": [
      "\u001b[0;31m---------------------------------------------------------------------------\u001b[0m",
      "\u001b[0;31mNameError\u001b[0m                                 Traceback (most recent call last)",
      "Cell \u001b[0;32mIn[4], line 5\u001b[0m\n\u001b[1;32m      2\u001b[0m user_diet_in, animal_input_in, equation_selection_in \u001b[38;5;241m=\u001b[39m nd\u001b[38;5;241m.\u001b[39mread_csv_input(path_to_package_data\u001b[38;5;241m.\u001b[39mjoinpath(\u001b[38;5;124m\"\u001b[39m\u001b[38;5;124minput.csv\u001b[39m\u001b[38;5;124m\"\u001b[39m))\n\u001b[1;32m      4\u001b[0m \u001b[38;5;66;03m# Load feed library\u001b[39;00m\n\u001b[0;32m----> 5\u001b[0m feed_library_in \u001b[38;5;241m=\u001b[39m \u001b[43mpd\u001b[49m\u001b[38;5;241m.\u001b[39mread_csv(path_to_package_data\u001b[38;5;241m.\u001b[39mjoinpath(\u001b[38;5;124m\"\u001b[39m\u001b[38;5;124mNASEM_feed_library.csv\u001b[39m\u001b[38;5;124m\"\u001b[39m))\n\u001b[1;32m      7\u001b[0m \u001b[38;5;66;03m## RUN MODEL ###\u001b[39;00m\n\u001b[1;32m      8\u001b[0m output \u001b[38;5;241m=\u001b[39m nd\u001b[38;5;241m.\u001b[39mexecute_model(\n\u001b[1;32m      9\u001b[0m     user_diet \u001b[38;5;241m=\u001b[39m user_diet_in, \n\u001b[1;32m     10\u001b[0m     animal_input \u001b[38;5;241m=\u001b[39m animal_input_in, \n\u001b[1;32m     11\u001b[0m     equation_selection \u001b[38;5;241m=\u001b[39m equation_selection_in, \n\u001b[1;32m     12\u001b[0m     feed_library_df \u001b[38;5;241m=\u001b[39m feed_library_in, \n\u001b[1;32m     13\u001b[0m     coeff_dict \u001b[38;5;241m=\u001b[39m nd\u001b[38;5;241m.\u001b[39mcoeff_dict)\n",
      "\u001b[0;31mNameError\u001b[0m: name 'pd' is not defined"
     ]
    }
   ],
   "source": [
    "# Read_csv to load required data into env\n",
    "user_diet_in, animal_input_in, equation_selection_in = nd.read_csv_input(path_to_package_data.joinpath(\"input.csv\"))\n",
    "\n",
    "# Load feed library\n",
    "feed_library_in = pd.read_csv(path_to_package_data.joinpath(\"NASEM_feed_library.csv\"))\n",
    "\n",
    "## RUN MODEL ###\n",
    "output = nd.execute_model(\n",
    "    user_diet = user_diet_in, \n",
    "    animal_input = animal_input_in, \n",
    "    equation_selection = equation_selection_in, \n",
    "    feed_library_df = feed_library_in, \n",
    "    coeff_dict = nd.coeff_dict)\n",
    "\n",
    "output"
   ]
  },
  {
   "cell_type": "markdown",
   "metadata": {},
   "source": [
    "## Dry cow"
   ]
  },
  {
   "cell_type": "code",
   "execution_count": 11,
   "metadata": {},
   "outputs": [
    {
     "ename": "KeyError",
     "evalue": "'mPrt_eqn'",
     "output_type": "error",
     "traceback": [
      "\u001b[0;31m---------------------------------------------------------------------------\u001b[0m",
      "\u001b[0;31mKeyError\u001b[0m                                  Traceback (most recent call last)",
      "Cell \u001b[0;32mIn[11], line 8\u001b[0m\n\u001b[1;32m      5\u001b[0m feed_library_in \u001b[38;5;241m=\u001b[39m pd\u001b[38;5;241m.\u001b[39mread_csv(path_to_package_data\u001b[38;5;241m.\u001b[39mjoinpath(\u001b[38;5;124m\"\u001b[39m\u001b[38;5;124mNASEM_feed_library.csv\u001b[39m\u001b[38;5;124m\"\u001b[39m))\n\u001b[1;32m      7\u001b[0m \u001b[38;5;66;03m## RUN MODEL ###\u001b[39;00m\n\u001b[0;32m----> 8\u001b[0m output_drycow \u001b[38;5;241m=\u001b[39m \u001b[43mnd\u001b[49m\u001b[38;5;241;43m.\u001b[39;49m\u001b[43mexecute_model\u001b[49m\u001b[43m(\u001b[49m\n\u001b[1;32m      9\u001b[0m \u001b[43m    \u001b[49m\u001b[43muser_diet\u001b[49m\u001b[43m \u001b[49m\u001b[38;5;241;43m=\u001b[39;49m\u001b[43m \u001b[49m\u001b[43muser_diet_in\u001b[49m\u001b[43m,\u001b[49m\u001b[43m \u001b[49m\n\u001b[1;32m     10\u001b[0m \u001b[43m    \u001b[49m\u001b[43manimal_input\u001b[49m\u001b[43m \u001b[49m\u001b[38;5;241;43m=\u001b[39;49m\u001b[43m \u001b[49m\u001b[43manimal_input_in\u001b[49m\u001b[43m,\u001b[49m\u001b[43m \u001b[49m\n\u001b[1;32m     11\u001b[0m \u001b[43m    \u001b[49m\u001b[43mequation_selection\u001b[49m\u001b[43m \u001b[49m\u001b[38;5;241;43m=\u001b[39;49m\u001b[43m \u001b[49m\u001b[43mequation_selection_in\u001b[49m\u001b[43m,\u001b[49m\u001b[43m \u001b[49m\n\u001b[1;32m     12\u001b[0m \u001b[43m    \u001b[49m\u001b[43mfeed_library_df\u001b[49m\u001b[43m \u001b[49m\u001b[38;5;241;43m=\u001b[39;49m\u001b[43m \u001b[49m\u001b[43mfeed_library_in\u001b[49m\u001b[43m,\u001b[49m\u001b[43m \u001b[49m\n\u001b[1;32m     13\u001b[0m \u001b[43m    \u001b[49m\u001b[43mcoeff_dict\u001b[49m\u001b[43m \u001b[49m\u001b[38;5;241;43m=\u001b[39;49m\u001b[43m \u001b[49m\u001b[43mnd\u001b[49m\u001b[38;5;241;43m.\u001b[39;49m\u001b[43mcoeff_dict\u001b[49m\u001b[43m)\u001b[49m\n\u001b[1;32m     15\u001b[0m output_drycow\n",
      "File \u001b[0;32m~/Library/CloudStorage/OneDrive-UniversityofGuelph/UoG/UoG Python/NASEM-Model-Python/src/nasem_dairy/ration_balancer/execute_model.py:93\u001b[0m, in \u001b[0;36mexecute_model\u001b[0;34m(user_diet, animal_input, equation_selection, feed_library_df, coeff_dict, infusion_input, MP_NP_efficiency_input, mPrt_coeff_list, f_Imb)\u001b[0m\n\u001b[1;32m     91\u001b[0m user_diet \u001b[38;5;241m=\u001b[39m user_diet\u001b[38;5;241m.\u001b[39mcopy()\n\u001b[1;32m     92\u001b[0m animal_input \u001b[38;5;241m=\u001b[39m validate\u001b[38;5;241m.\u001b[39mvalidate_animal_input(animal_input\u001b[38;5;241m.\u001b[39mcopy())\n\u001b[0;32m---> 93\u001b[0m mPrt_coeff \u001b[38;5;241m=\u001b[39m mPrt_coeff_list[\u001b[38;5;28mint\u001b[39m(\u001b[43mequation_selection\u001b[49m\u001b[43m[\u001b[49m\u001b[38;5;124;43m'\u001b[39;49m\u001b[38;5;124;43mmPrt_eqn\u001b[39;49m\u001b[38;5;124;43m'\u001b[39;49m\u001b[43m]\u001b[49m)]\n\u001b[1;32m     94\u001b[0m AA_list \u001b[38;5;241m=\u001b[39m [\n\u001b[1;32m     95\u001b[0m     \u001b[38;5;124m'\u001b[39m\u001b[38;5;124mArg\u001b[39m\u001b[38;5;124m'\u001b[39m, \u001b[38;5;124m'\u001b[39m\u001b[38;5;124mHis\u001b[39m\u001b[38;5;124m'\u001b[39m, \u001b[38;5;124m'\u001b[39m\u001b[38;5;124mIle\u001b[39m\u001b[38;5;124m'\u001b[39m, \u001b[38;5;124m'\u001b[39m\u001b[38;5;124mLeu\u001b[39m\u001b[38;5;124m'\u001b[39m, \u001b[38;5;124m'\u001b[39m\u001b[38;5;124mLys\u001b[39m\u001b[38;5;124m'\u001b[39m, \u001b[38;5;124m'\u001b[39m\u001b[38;5;124mMet\u001b[39m\u001b[38;5;124m'\u001b[39m, \u001b[38;5;124m'\u001b[39m\u001b[38;5;124mPhe\u001b[39m\u001b[38;5;124m'\u001b[39m, \u001b[38;5;124m'\u001b[39m\u001b[38;5;124mThr\u001b[39m\u001b[38;5;124m'\u001b[39m, \u001b[38;5;124m'\u001b[39m\u001b[38;5;124mTrp\u001b[39m\u001b[38;5;124m'\u001b[39m, \u001b[38;5;124m'\u001b[39m\u001b[38;5;124mVal\u001b[39m\u001b[38;5;124m'\u001b[39m\n\u001b[1;32m     96\u001b[0m ]\n\u001b[1;32m     97\u001b[0m Trg_AbsAA_NPxprtAA \u001b[38;5;241m=\u001b[39m np\u001b[38;5;241m.\u001b[39marray([\n\u001b[1;32m     98\u001b[0m     MP_NP_efficiency_input[\u001b[38;5;124mf\u001b[39m\u001b[38;5;124m\"\u001b[39m\u001b[38;5;124mTrg_Abs\u001b[39m\u001b[38;5;132;01m{\u001b[39;00mAA\u001b[38;5;132;01m}\u001b[39;00m\u001b[38;5;124m_NP\u001b[39m\u001b[38;5;132;01m{\u001b[39;00mAA\u001b[38;5;132;01m}\u001b[39;00m\u001b[38;5;124m\"\u001b[39m]\n\u001b[1;32m     99\u001b[0m     \u001b[38;5;28;01mfor\u001b[39;00m AA \u001b[38;5;129;01min\u001b[39;00m AA_list\n\u001b[1;32m    100\u001b[0m     \u001b[38;5;28;01mif\u001b[39;00m AA \u001b[38;5;241m!=\u001b[39m \u001b[38;5;124m\"\u001b[39m\u001b[38;5;124mArg\u001b[39m\u001b[38;5;124m\"\u001b[39m\n\u001b[1;32m    101\u001b[0m ])\n",
      "\u001b[0;31mKeyError\u001b[0m: 'mPrt_eqn'"
     ]
    }
   ],
   "source": [
    "# Read_csv to load required data into env\n",
    "user_diet_in, animal_input_in, equation_selection_in = nd.read_csv_input(path_to_package_data.joinpath(\"input_drycow.csv\"))\n",
    "\n",
    "# Load feed library\n",
    "feed_library_in = pd.read_csv(path_to_package_data.joinpath(\"NASEM_feed_library.csv\"))\n",
    "\n",
    "## RUN MODEL ###\n",
    "output_drycow = nd.execute_model(\n",
    "    user_diet = user_diet_in, \n",
    "    animal_input = animal_input_in, \n",
    "    equation_selection = equation_selection_in, \n",
    "    feed_library_df = feed_library_in, \n",
    "    coeff_dict = nd.coeff_dict)\n",
    "\n",
    "output_drycow"
   ]
  },
  {
   "cell_type": "markdown",
   "metadata": {},
   "source": [
    "## Loop all input csv scenarios"
   ]
  },
  {
   "cell_type": "code",
   "execution_count": 5,
   "metadata": {},
   "outputs": [
    {
     "data": {
      "text/plain": [
       "['input_calf_liquid_solid_feed.csv',\n",
       " 'input_dry_cow_late_gestation.csv',\n",
       " 'input_jersey_replacement_heifer.csv',\n",
       " 'input_dry_cow_grazing.csv',\n",
       " 'input_guernsey_lactating.csv',\n",
       " 'input_drycow.csv']"
      ]
     },
     "execution_count": 5,
     "metadata": {},
     "output_type": "execute_result"
    }
   ],
   "source": [
    "# list data in inputs\n",
    "os.listdir(files('nasem_dairy').joinpath('data'))\n",
    "\n",
    "csv_input_files = [file for file in os.listdir(files('nasem_dairy').joinpath('data')) if file.startswith('input_')]\n",
    "csv_input_files"
   ]
  },
  {
   "cell_type": "code",
   "execution_count": 12,
   "metadata": {},
   "outputs": [],
   "source": [
    "def input_test(path_name):\n",
    "    print(path_name)\n",
    "    # Read_csv to load required data into env\n",
    "    user_diet_in, animal_input_in, equation_selection_in = nd.read_csv_input(path_to_package_data.joinpath(path_name))\n",
    "\n",
    "    # Load feed library\n",
    "    feed_library_in = pd.read_csv(path_to_package_data.joinpath(\"NASEM_feed_library.csv\"))\n",
    "\n",
    "    ## RUN MODEL ###\n",
    "    output = nd.execute_model(\n",
    "        user_diet = user_diet_in, \n",
    "        animal_input = animal_input_in, \n",
    "        equation_selection = equation_selection_in, \n",
    "        feed_library_df = feed_library_in, \n",
    "        coeff_dict = nd.coeff_dict)\n",
    "\n",
    "    return output"
   ]
  },
  {
   "cell_type": "code",
   "execution_count": 8,
   "metadata": {},
   "outputs": [],
   "source": [
    "# input_drycow.csv not working\n",
    "\n",
    "sub_csv = csv_input_files.copy()\n",
    "sub_csv.remove('input_drycow.csv')"
   ]
  },
  {
   "cell_type": "code",
   "execution_count": 13,
   "metadata": {},
   "outputs": [
    {
     "name": "stdout",
     "output_type": "stream",
     "text": [
      "input_calf_liquid_solid_feed.csv\n",
      "=====================\n",
      "Model Output Snapshot\n",
      "=====================\n",
      "Milk production kg (Mlk_Prod_comp): 10.736\n",
      "Milk fat g/g (MlkFat_Milk): 0\n",
      "Milk protein g/g (MlkNP_Milk): 0\n",
      "Milk Production - MP allowable kg (Mlk_Prod_MPalow): inf\n",
      "Milk Production - NE allowable kg (Mlk_Prod_NEalow): -inf\n",
      "Animal ME intake Mcal/d (An_MEIn): 3.783\n",
      "Target ME use Mcal/d (Trg_MEuse): 10.548\n",
      "Animal MP intake g/d (An_MPIn_g): 369.83\n",
      "Animal MP use g/d (An_MPuse_g_Trg): 348.874\n",
      "Animal RDP intake g/d (An_RDPIn_g): 448.66\n",
      "Diet DCAD meq (An_DCADmeq): 213.78\n",
      "\n",
      "This is a `ModelOutput` object with methods to access all model outputs. See help(ModelOutput).\n",
      "input_dry_cow_late_gestation.csv\n",
      "=====================\n",
      "Model Output Snapshot\n",
      "=====================\n",
      "Milk production kg (Mlk_Prod_comp): 18.782\n",
      "Milk fat g/g (MlkFat_Milk): 0\n",
      "Milk protein g/g (MlkNP_Milk): 0\n",
      "Milk Production - MP allowable kg (Mlk_Prod_MPalow): inf\n",
      "Milk Production - NE allowable kg (Mlk_Prod_NEalow): -inf\n",
      "Animal ME intake Mcal/d (An_MEIn): 26.65\n",
      "Target ME use Mcal/d (Trg_MEuse): 28.578\n",
      "Animal MP intake g/d (An_MPIn_g): 1015.016\n",
      "Animal MP use g/d (An_MPuse_g_Trg): 796.135\n",
      "Animal RDP intake g/d (An_RDPIn_g): 1005.78\n",
      "Diet DCAD meq (An_DCADmeq): -455.17\n",
      "\n",
      "This is a `ModelOutput` object with methods to access all model outputs. See help(ModelOutput).\n",
      "input_jersey_replacement_heifer.csv\n",
      "=====================\n",
      "Model Output Snapshot\n",
      "=====================\n",
      "Milk production kg (Mlk_Prod_comp): 14.265\n",
      "Milk fat g/g (MlkFat_Milk): 0\n",
      "Milk protein g/g (MlkNP_Milk): 0\n",
      "Milk Production - MP allowable kg (Mlk_Prod_MPalow): -inf\n",
      "Milk Production - NE allowable kg (Mlk_Prod_NEalow): inf\n",
      "Animal ME intake Mcal/d (An_MEIn): 35.619\n",
      "Target ME use Mcal/d (Trg_MEuse): 19.893\n",
      "Animal MP intake g/d (An_MPIn_g): 1086.194\n",
      "Animal MP use g/d (An_MPuse_g_Trg): 1143.727\n",
      "Animal RDP intake g/d (An_RDPIn_g): 1854.055\n",
      "Diet DCAD meq (An_DCADmeq): -25.725\n",
      "\n",
      "This is a `ModelOutput` object with methods to access all model outputs. See help(ModelOutput).\n",
      "input_dry_cow_grazing.csv\n"
     ]
    },
    {
     "name": "stderr",
     "output_type": "stream",
     "text": [
      "/Users/dave/Library/CloudStorage/OneDrive-UniversityofGuelph/UoG/UoG Python/NASEM-Model-Python/src/nasem_dairy/NASEM_equations/milk_equations.py:285: RuntimeWarning: divide by zero encountered in scalar divide\n",
      "  Mlk_Prod_MPalow = Mlk_NP_MPalow_Trg_g / (Trg_MilkTPp / 100) / 1000\n",
      "/Users/dave/Library/CloudStorage/OneDrive-UniversityofGuelph/UoG/UoG Python/NASEM-Model-Python/src/nasem_dairy/NASEM_equations/milk_equations.py:312: RuntimeWarning: divide by zero encountered in scalar divide\n",
      "  Mlk_Prod_NEalow = An_MEavail_Milk * coeff_dict['Kl_ME_NE'] / Trg_NEmilk_Milk\n",
      "/Users/dave/Library/CloudStorage/OneDrive-UniversityofGuelph/UoG/UoG Python/NASEM-Model-Python/src/nasem_dairy/NASEM_equations/milk_equations.py:566: RuntimeWarning: invalid value encountered in scalar multiply\n",
      "  12.97 * Trg_MilkFatp / 100 * Mlk_Prod_NEalow) + (\n",
      "/Users/dave/Library/CloudStorage/OneDrive-UniversityofGuelph/UoG/UoG Python/NASEM-Model-Python/src/nasem_dairy/NASEM_equations/milk_equations.py:567: RuntimeWarning: invalid value encountered in scalar multiply\n",
      "  7.65 * Trg_MilkTPp / 100 * Mlk_Prod_NEalow\n",
      "/Users/dave/Library/CloudStorage/OneDrive-UniversityofGuelph/UoG/UoG Python/NASEM-Model-Python/src/nasem_dairy/NASEM_equations/manure_equations.py:89: RuntimeWarning: divide by zero encountered in scalar divide\n",
      "  ManN_Milk = Man_Nout_g / Mlk_Prod  # g N / kg of milk, Line 3259\n",
      "/Users/dave/Library/CloudStorage/OneDrive-UniversityofGuelph/UoG/UoG Python/NASEM-Model-Python/src/nasem_dairy/NASEM_equations/milk_equations.py:285: RuntimeWarning: divide by zero encountered in scalar divide\n",
      "  Mlk_Prod_MPalow = Mlk_NP_MPalow_Trg_g / (Trg_MilkTPp / 100) / 1000\n",
      "/Users/dave/Library/CloudStorage/OneDrive-UniversityofGuelph/UoG/UoG Python/NASEM-Model-Python/src/nasem_dairy/NASEM_equations/milk_equations.py:312: RuntimeWarning: divide by zero encountered in scalar divide\n",
      "  Mlk_Prod_NEalow = An_MEavail_Milk * coeff_dict['Kl_ME_NE'] / Trg_NEmilk_Milk\n",
      "/Users/dave/Library/CloudStorage/OneDrive-UniversityofGuelph/UoG/UoG Python/NASEM-Model-Python/src/nasem_dairy/NASEM_equations/milk_equations.py:566: RuntimeWarning: invalid value encountered in scalar multiply\n",
      "  12.97 * Trg_MilkFatp / 100 * Mlk_Prod_NEalow) + (\n",
      "/Users/dave/Library/CloudStorage/OneDrive-UniversityofGuelph/UoG/UoG Python/NASEM-Model-Python/src/nasem_dairy/NASEM_equations/milk_equations.py:567: RuntimeWarning: invalid value encountered in scalar multiply\n",
      "  7.65 * Trg_MilkTPp / 100 * Mlk_Prod_NEalow\n",
      "/Users/dave/Library/CloudStorage/OneDrive-UniversityofGuelph/UoG/UoG Python/NASEM-Model-Python/src/nasem_dairy/NASEM_equations/body_composition_equations.py:576: RuntimeWarning: invalid value encountered in scalar divide\n",
      "  Body_Gain_NEalow = An_MEavail_Grw * Kg_ME_NE / Body_NEgain_BWgain # Line 2950\n",
      "/Users/dave/Library/CloudStorage/OneDrive-UniversityofGuelph/UoG/UoG Python/NASEM-Model-Python/src/nasem_dairy/NASEM_equations/manure_equations.py:89: RuntimeWarning: divide by zero encountered in scalar divide\n",
      "  ManN_Milk = Man_Nout_g / Mlk_Prod  # g N / kg of milk, Line 3259\n",
      "/Users/dave/Library/CloudStorage/OneDrive-UniversityofGuelph/UoG/UoG Python/NASEM-Model-Python/src/nasem_dairy/NASEM_equations/milk_equations.py:285: RuntimeWarning: divide by zero encountered in scalar divide\n",
      "  Mlk_Prod_MPalow = Mlk_NP_MPalow_Trg_g / (Trg_MilkTPp / 100) / 1000\n",
      "/Users/dave/Library/CloudStorage/OneDrive-UniversityofGuelph/UoG/UoG Python/NASEM-Model-Python/src/nasem_dairy/NASEM_equations/milk_equations.py:312: RuntimeWarning: divide by zero encountered in scalar divide\n",
      "  Mlk_Prod_NEalow = An_MEavail_Milk * coeff_dict['Kl_ME_NE'] / Trg_NEmilk_Milk\n",
      "/Users/dave/Library/CloudStorage/OneDrive-UniversityofGuelph/UoG/UoG Python/NASEM-Model-Python/src/nasem_dairy/NASEM_equations/milk_equations.py:566: RuntimeWarning: invalid value encountered in scalar multiply\n",
      "  12.97 * Trg_MilkFatp / 100 * Mlk_Prod_NEalow) + (\n",
      "/Users/dave/Library/CloudStorage/OneDrive-UniversityofGuelph/UoG/UoG Python/NASEM-Model-Python/src/nasem_dairy/NASEM_equations/milk_equations.py:567: RuntimeWarning: invalid value encountered in scalar multiply\n",
      "  7.65 * Trg_MilkTPp / 100 * Mlk_Prod_NEalow\n",
      "/Users/dave/Library/CloudStorage/OneDrive-UniversityofGuelph/UoG/UoG Python/NASEM-Model-Python/src/nasem_dairy/NASEM_equations/micronutrient_requirement_equations.py:1173: RuntimeWarning: invalid value encountered in scalar divide\n",
      "  Dt_acCo = Abs_CoIn / Dt_CoIn  # Line 3230\n",
      "/Users/dave/Library/CloudStorage/OneDrive-UniversityofGuelph/UoG/UoG Python/NASEM-Model-Python/src/nasem_dairy/NASEM_equations/manure_equations.py:89: RuntimeWarning: divide by zero encountered in scalar divide\n",
      "  ManN_Milk = Man_Nout_g / Mlk_Prod  # g N / kg of milk, Line 3259\n",
      "/Users/dave/Library/CloudStorage/OneDrive-UniversityofGuelph/UoG/UoG Python/NASEM-Model-Python/src/nasem_dairy/NASEM_equations/milk_equations.py:285: RuntimeWarning: divide by zero encountered in scalar divide\n",
      "  Mlk_Prod_MPalow = Mlk_NP_MPalow_Trg_g / (Trg_MilkTPp / 100) / 1000\n",
      "/Users/dave/Library/CloudStorage/OneDrive-UniversityofGuelph/UoG/UoG Python/NASEM-Model-Python/src/nasem_dairy/NASEM_equations/milk_equations.py:312: RuntimeWarning: divide by zero encountered in scalar divide\n",
      "  Mlk_Prod_NEalow = An_MEavail_Milk * coeff_dict['Kl_ME_NE'] / Trg_NEmilk_Milk\n",
      "/Users/dave/Library/CloudStorage/OneDrive-UniversityofGuelph/UoG/UoG Python/NASEM-Model-Python/src/nasem_dairy/NASEM_equations/milk_equations.py:566: RuntimeWarning: invalid value encountered in scalar multiply\n",
      "  12.97 * Trg_MilkFatp / 100 * Mlk_Prod_NEalow) + (\n",
      "/Users/dave/Library/CloudStorage/OneDrive-UniversityofGuelph/UoG/UoG Python/NASEM-Model-Python/src/nasem_dairy/NASEM_equations/milk_equations.py:567: RuntimeWarning: invalid value encountered in scalar multiply\n",
      "  7.65 * Trg_MilkTPp / 100 * Mlk_Prod_NEalow\n",
      "/Users/dave/Library/CloudStorage/OneDrive-UniversityofGuelph/UoG/UoG Python/NASEM-Model-Python/src/nasem_dairy/NASEM_equations/manure_equations.py:89: RuntimeWarning: divide by zero encountered in scalar divide\n",
      "  ManN_Milk = Man_Nout_g / Mlk_Prod  # g N / kg of milk, Line 3259\n"
     ]
    },
    {
     "name": "stdout",
     "output_type": "stream",
     "text": [
      "=====================\n",
      "Model Output Snapshot\n",
      "=====================\n",
      "Milk production kg (Mlk_Prod_comp): 17.99\n",
      "Milk fat g/g (MlkFat_Milk): 0\n",
      "Milk protein g/g (MlkNP_Milk): 0\n",
      "Milk Production - MP allowable kg (Mlk_Prod_MPalow): inf\n",
      "Milk Production - NE allowable kg (Mlk_Prod_NEalow): inf\n",
      "Animal ME intake Mcal/d (An_MEIn): 29.117\n",
      "Target ME use Mcal/d (Trg_MEuse): 25.408\n",
      "Animal MP intake g/d (An_MPIn_g): 1334.34\n",
      "Animal MP use g/d (An_MPuse_g_Trg): 656.197\n",
      "Animal RDP intake g/d (An_RDPIn_g): 2207.43\n",
      "Diet DCAD meq (An_DCADmeq): -170.532\n",
      "\n",
      "This is a `ModelOutput` object with methods to access all model outputs. See help(ModelOutput).\n",
      "input_guernsey_lactating.csv\n",
      "=====================\n",
      "Model Output Snapshot\n",
      "=====================\n",
      "Milk production kg (Mlk_Prod_comp): 37.807\n",
      "Milk fat g/g (MlkFat_Milk): 0.05\n",
      "Milk protein g/g (MlkNP_Milk): 0.03\n",
      "Milk Production - MP allowable kg (Mlk_Prod_MPalow): 33.801\n",
      "Milk Production - NE allowable kg (Mlk_Prod_NEalow): 42.244\n",
      "Animal ME intake Mcal/d (An_MEIn): 69.924\n",
      "Target ME use Mcal/d (Trg_MEuse): 53.7\n",
      "Animal MP intake g/d (An_MPIn_g): 2280.743\n",
      "Animal MP use g/d (An_MPuse_g_Trg): 2044.159\n",
      "Animal RDP intake g/d (An_RDPIn_g): 2578.53\n",
      "Diet DCAD meq (An_DCADmeq): 143.235\n",
      "\n",
      "This is a `ModelOutput` object with methods to access all model outputs. See help(ModelOutput).\n"
     ]
    },
    {
     "name": "stderr",
     "output_type": "stream",
     "text": [
      "/Users/dave/Library/CloudStorage/OneDrive-UniversityofGuelph/UoG/UoG Python/NASEM-Model-Python/src/nasem_dairy/NASEM_equations/micronutrient_requirement_equations.py:1173: RuntimeWarning: invalid value encountered in scalar divide\n",
      "  Dt_acCo = Abs_CoIn / Dt_CoIn  # Line 3230\n"
     ]
    },
    {
     "data": {
      "text/plain": [
       "[None, None, None, None, None]"
      ]
     },
     "execution_count": 13,
     "metadata": {},
     "output_type": "execute_result"
    }
   ],
   "source": [
    "# Execute each scenario and print output.\n",
    "[print(input_test(path)) for path in sub_csv]"
   ]
  },
  {
   "cell_type": "markdown",
   "metadata": {},
   "source": [
    "# Run single scenario"
   ]
  },
  {
   "cell_type": "code",
   "execution_count": 14,
   "metadata": {},
   "outputs": [
    {
     "name": "stdout",
     "output_type": "stream",
     "text": [
      "input.csv\n"
     ]
    },
    {
     "name": "stderr",
     "output_type": "stream",
     "text": [
      "/Users/dave/Library/CloudStorage/OneDrive-UniversityofGuelph/UoG/UoG Python/NASEM-Model-Python/src/nasem_dairy/NASEM_equations/micronutrient_requirement_equations.py:1173: RuntimeWarning: invalid value encountered in scalar divide\n",
      "  Dt_acCo = Abs_CoIn / Dt_CoIn  # Line 3230\n"
     ]
    },
    {
     "data": {
      "text/html": [
       "\n",
       "        <div>\n",
       "            <h2>Model Output Snapshot</h2>\n",
       "            <table border=\"1\" class=\"dataframe\">\n",
       "  <thead>\n",
       "    <tr style=\"text-align: right;\">\n",
       "      <th>Description</th>\n",
       "      <th>Value</th>\n",
       "    </tr>\n",
       "  </thead>\n",
       "  <tbody>\n",
       "    <tr>\n",
       "      <td>Milk production kg (Mlk_Prod_comp)</td>\n",
       "      <td>35.569</td>\n",
       "    </tr>\n",
       "    <tr>\n",
       "      <td>Milk fat g/g (MlkFat_Milk)</td>\n",
       "      <td>0.053</td>\n",
       "    </tr>\n",
       "    <tr>\n",
       "      <td>Milk protein g/g (MlkNP_Milk)</td>\n",
       "      <td>0.042</td>\n",
       "    </tr>\n",
       "    <tr>\n",
       "      <td>Milk Production - MP allowable kg (Mlk_Prod_MPalow)</td>\n",
       "      <td>35.906</td>\n",
       "    </tr>\n",
       "    <tr>\n",
       "      <td>Milk Production - NE allowable kg (Mlk_Prod_NEalow)</td>\n",
       "      <td>31.498</td>\n",
       "    </tr>\n",
       "    <tr>\n",
       "      <td>Animal ME intake Mcal/d (An_MEIn)</td>\n",
       "      <td>60.273</td>\n",
       "    </tr>\n",
       "    <tr>\n",
       "      <td>Target ME use Mcal/d (Trg_MEuse)</td>\n",
       "      <td>52.195</td>\n",
       "    </tr>\n",
       "    <tr>\n",
       "      <td>Animal MP intake g/d (An_MPIn_g)</td>\n",
       "      <td>2565.214</td>\n",
       "    </tr>\n",
       "    <tr>\n",
       "      <td>Animal MP use g/d (An_MPuse_g_Trg)</td>\n",
       "      <td>1989.985</td>\n",
       "    </tr>\n",
       "    <tr>\n",
       "      <td>Animal RDP intake g/d (An_RDPIn_g)</td>\n",
       "      <td>3556.058</td>\n",
       "    </tr>\n",
       "    <tr>\n",
       "      <td>Diet DCAD meq (An_DCADmeq)</td>\n",
       "      <td>96.453</td>\n",
       "    </tr>\n",
       "  </tbody>\n",
       "</table>\n",
       "            <hr>\n",
       "            \n",
       "        <details>\n",
       "            <summary><strong>Click this drop-down for ModelOutput description</strong></summary>\n",
       "            <p>This is a <code>ModelOutput</code> object returned by <code>nd.execute_model()</code>.</p>\n",
       "            <p>Each of the following categories can be called directly as methods, for example, if the name of my object is <code>output</code>, I would call <code>output.Production</code> to see the contents of Production.</p>\n",
       "            <p>The following list shows which dictionaries are within each category:</p>\n",
       "            <ul>\n",
       "        <li><b>Inputs:</b> user_diet, animal_input, equation_selection, coeff_dict, infusion_input, MP_NP_efficiency_input, mPrt_coeff, f_Imb</li><li><b>Intakes:</b> diet_info, infusion_data, diet_data, An_data, energy, protein, AA, FA, rumen_digestable, water</li><li><b>Requirements:</b> energy, protein, vitamin, mineral, mineral_requirements</li><li><b>Production:</b> milk, body_composition, gestation, MiCP</li><li><b>Excretion:</b> fecal, urinary, gaseous, scurf</li><li><b>Digestibility:</b> rumen, TT</li><li><b>Efficiencies:</b> energy, protein, mineral</li><li><b>Miscellaneous:</b> misc</li>\n",
       "            </ul>\n",
       "            <div>\n",
       "                <p>These outputs can be accessed by name, e.g., <code>output.Production['milk']['Mlk_Prod']</code>.</p>\n",
       "                <p>There is also a <code>.search()</code> method which takes a string and will return a dataframe of all outputs with that string (case insensitive), e.g., <code>output.search('Mlk')</code>.</p>\n",
       "                <p>An individual output can be retrieved directly by providing its exact name to the <code>.get_value()</code> method, e.g., <code>output.get_value('Mlk_Prod')</code>.</p>\n",
       "            </div>\n",
       "        </details>\n",
       "        \n",
       "        </div>\n",
       "        "
      ],
      "text/plain": [
       "<nasem_dairy.ration_balancer.ModelOutput.ModelOutput at 0x11c070290>"
      ]
     },
     "execution_count": 14,
     "metadata": {},
     "output_type": "execute_result"
    }
   ],
   "source": [
    "input_test('input.csv')"
   ]
  },
  {
   "cell_type": "markdown",
   "metadata": {},
   "source": [
    "# iterate DMIn_eqn\n",
    "Currently missing eqn 1\n"
   ]
  },
  {
   "cell_type": "code",
   "execution_count": 68,
   "metadata": {},
   "outputs": [
    {
     "name": "stderr",
     "output_type": "stream",
     "text": [
      "/Users/dave/Library/CloudStorage/OneDrive-UniversityofGuelph/UoG/UoG Python/NASEM-Model-Python/src/nasem_dairy/NASEM_equations/micronutrient_requirement_equations.py:1173: RuntimeWarning: invalid value encountered in scalar divide\n",
      "  Dt_acCo = Abs_CoIn / Dt_CoIn  # Line 3230\n",
      "/Users/dave/Library/CloudStorage/OneDrive-UniversityofGuelph/UoG/UoG Python/NASEM-Model-Python/src/nasem_dairy/NASEM_equations/micronutrient_requirement_equations.py:1173: RuntimeWarning: invalid value encountered in scalar divide\n",
      "  Dt_acCo = Abs_CoIn / Dt_CoIn  # Line 3230\n",
      "/Users/dave/Library/CloudStorage/OneDrive-UniversityofGuelph/UoG/UoG Python/NASEM-Model-Python/src/nasem_dairy/NASEM_equations/micronutrient_requirement_equations.py:1173: RuntimeWarning: invalid value encountered in scalar divide\n",
      "  Dt_acCo = Abs_CoIn / Dt_CoIn  # Line 3230\n",
      "/Users/dave/Library/CloudStorage/OneDrive-UniversityofGuelph/UoG/UoG Python/NASEM-Model-Python/src/nasem_dairy/NASEM_equations/micronutrient_requirement_equations.py:1173: RuntimeWarning: invalid value encountered in scalar divide\n",
      "  Dt_acCo = Abs_CoIn / Dt_CoIn  # Line 3230\n",
      "/Users/dave/Library/CloudStorage/OneDrive-UniversityofGuelph/UoG/UoG Python/NASEM-Model-Python/src/nasem_dairy/NASEM_equations/micronutrient_requirement_equations.py:1173: RuntimeWarning: invalid value encountered in scalar divide\n",
      "  Dt_acCo = Abs_CoIn / Dt_CoIn  # Line 3230\n",
      "/Users/dave/Library/CloudStorage/OneDrive-UniversityofGuelph/UoG/UoG Python/NASEM-Model-Python/src/nasem_dairy/NASEM_equations/micronutrient_requirement_equations.py:1173: RuntimeWarning: invalid value encountered in scalar divide\n",
      "  Dt_acCo = Abs_CoIn / Dt_CoIn  # Line 3230\n"
     ]
    },
    {
     "name": "stdout",
     "output_type": "stream",
     "text": [
      "DMIn_eqn uncaught - DMI not changed. equation_selection[DMIn_eqn]: 1\n"
     ]
    },
    {
     "name": "stderr",
     "output_type": "stream",
     "text": [
      "/Users/dave/Library/CloudStorage/OneDrive-UniversityofGuelph/UoG/UoG Python/NASEM-Model-Python/src/nasem_dairy/NASEM_equations/micronutrient_requirement_equations.py:1173: RuntimeWarning: invalid value encountered in scalar divide\n",
      "  Dt_acCo = Abs_CoIn / Dt_CoIn  # Line 3230\n",
      "/Users/dave/Library/CloudStorage/OneDrive-UniversityofGuelph/UoG/UoG Python/NASEM-Model-Python/src/nasem_dairy/NASEM_equations/micronutrient_requirement_equations.py:1173: RuntimeWarning: invalid value encountered in scalar divide\n",
      "  Dt_acCo = Abs_CoIn / Dt_CoIn  # Line 3230\n",
      "/Users/dave/Library/CloudStorage/OneDrive-UniversityofGuelph/UoG/UoG Python/NASEM-Model-Python/src/nasem_dairy/NASEM_equations/micronutrient_requirement_equations.py:1173: RuntimeWarning: invalid value encountered in scalar divide\n",
      "  Dt_acCo = Abs_CoIn / Dt_CoIn  # Line 3230\n",
      "/Users/dave/Library/CloudStorage/OneDrive-UniversityofGuelph/UoG/UoG Python/NASEM-Model-Python/src/nasem_dairy/NASEM_equations/micronutrient_requirement_equations.py:1173: RuntimeWarning: invalid value encountered in scalar divide\n",
      "  Dt_acCo = Abs_CoIn / Dt_CoIn  # Line 3230\n",
      "/Users/dave/Library/CloudStorage/OneDrive-UniversityofGuelph/UoG/UoG Python/NASEM-Model-Python/src/nasem_dairy/NASEM_equations/micronutrient_requirement_equations.py:1173: RuntimeWarning: invalid value encountered in scalar divide\n",
      "  Dt_acCo = Abs_CoIn / Dt_CoIn  # Line 3230\n",
      "/Users/dave/Library/CloudStorage/OneDrive-UniversityofGuelph/UoG/UoG Python/NASEM-Model-Python/src/nasem_dairy/NASEM_equations/micronutrient_requirement_equations.py:1173: RuntimeWarning: invalid value encountered in scalar divide\n",
      "  Dt_acCo = Abs_CoIn / Dt_CoIn  # Line 3230\n",
      "/Users/dave/Library/CloudStorage/OneDrive-UniversityofGuelph/UoG/UoG Python/NASEM-Model-Python/src/nasem_dairy/NASEM_equations/micronutrient_requirement_equations.py:1173: RuntimeWarning: invalid value encountered in scalar divide\n",
      "  Dt_acCo = Abs_CoIn / Dt_CoIn  # Line 3230\n",
      "/Users/dave/Library/CloudStorage/OneDrive-UniversityofGuelph/UoG/UoG Python/NASEM-Model-Python/src/nasem_dairy/NASEM_equations/micronutrient_requirement_equations.py:1173: RuntimeWarning: invalid value encountered in scalar divide\n",
      "  Dt_acCo = Abs_CoIn / Dt_CoIn  # Line 3230\n",
      "/Users/dave/Library/CloudStorage/OneDrive-UniversityofGuelph/UoG/UoG Python/NASEM-Model-Python/src/nasem_dairy/NASEM_equations/micronutrient_requirement_equations.py:1173: RuntimeWarning: invalid value encountered in scalar divide\n",
      "  Dt_acCo = Abs_CoIn / Dt_CoIn  # Line 3230\n",
      "/Users/dave/Library/CloudStorage/OneDrive-UniversityofGuelph/UoG/UoG Python/NASEM-Model-Python/src/nasem_dairy/NASEM_equations/micronutrient_requirement_equations.py:1173: RuntimeWarning: invalid value encountered in scalar divide\n",
      "  Dt_acCo = Abs_CoIn / Dt_CoIn  # Line 3230\n"
     ]
    },
    {
     "data": {
      "text/plain": [
       "[24.521,\n",
       " 24.521,\n",
       " 11.504513756424398,\n",
       " 16.842879057296294,\n",
       " 11.474631902511609,\n",
       " 12.805095156214884,\n",
       " 10.866105707801568,\n",
       " 12.2518161120828,\n",
       " 21.453799372589593,\n",
       " 22.022810104356388,\n",
       " 12.323872852316462,\n",
       " 12.364693050000001,\n",
       " 11.504513756424398,\n",
       " 16.842879057296294,\n",
       " 11.474631902511609,\n",
       " 12.805095156214884]"
      ]
     },
     "execution_count": 68,
     "metadata": {},
     "output_type": "execute_result"
    }
   ],
   "source": [
    "# make function to test all values\n",
    "def iterate_test_DMI_eqns(DMIn_eqn):\n",
    "    equation_selection_in_test = equation_selection_in.copy()\n",
    "    equation_selection_in_test['DMIn_eqn'] = DMIn_eqn\n",
    "\n",
    "    output = nd.execute_model(\n",
    "        user_diet = user_diet_in, \n",
    "        animal_input = animal_input_in, \n",
    "        equation_selection = equation_selection_in_test, \n",
    "        feed_library_df = feed_library_in, \n",
    "        coeff_dict = nd.coeff_dict)\n",
    "\n",
    "    return (output.get_value('DMI'))\n",
    "\n",
    "[iterate_test_DMI_eqns(DMIn_eqn_value) for DMIn_eqn_value in range(0, 16)]\n"
   ]
  }
 ],
 "metadata": {
  "kernelspec": {
   "display_name": "NASEM_model_poetry",
   "language": "python",
   "name": "python3"
  },
  "language_info": {
   "codemirror_mode": {
    "name": "ipython",
    "version": 3
   },
   "file_extension": ".py",
   "mimetype": "text/x-python",
   "name": "python",
   "nbconvert_exporter": "python",
   "pygments_lexer": "ipython3",
   "version": "3.12.0"
  }
 },
 "nbformat": 4,
 "nbformat_minor": 2
}
