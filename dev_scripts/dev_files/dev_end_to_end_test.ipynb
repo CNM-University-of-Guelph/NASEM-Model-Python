{
 "cells": [
  {
   "cell_type": "markdown",
   "metadata": {},
   "source": [
    "# Code for Creating End To End Test JSON\n",
    "\n",
    "Add this code to the end of the \"NRC Dairy 2020 Model Fn\" script in R (Line 3338)\n",
    "to create a JSON file. Then run the create_end_to_end_json.py and pass the JSON \n",
    "file from R to create a new JSON file formatted to run an end to end test.  \n",
    "\n",
    " \n",
    "\n",
    "library(jsonlite)\n",
    "var_names <- ls()\n",
    "var_values <- mget(var_names)\n",
    "json_data <- toJSON(var_values, pretty = TRUE)\n",
    "write(json_data, file='R_values.json')\n"
   ]
  },
  {
   "cell_type": "markdown",
   "metadata": {},
   "source": [
    "## Import Packages"
   ]
  },
  {
   "cell_type": "code",
   "execution_count": 282,
   "metadata": {},
   "outputs": [],
   "source": [
    "import json\n",
    "import pandas as pd\n",
    "from nasem_dairy.ration_balancer.execute_model import execute_model\n",
    "import nasem_dairy.ration_balancer.default_values_dictionaries as constants\n",
    "import importlib_resources\n",
    "import numpy as np\n"
   ]
  },
  {
   "cell_type": "markdown",
   "metadata": {},
   "source": [
    "## 1. Format R JSON "
   ]
  },
  {
   "cell_type": "code",
   "execution_count": 283,
   "metadata": {},
   "outputs": [],
   "source": [
    "def load_R_json(R_json_path):\n",
    "    with open(R_json_path, 'r') as file:\n",
    "        data = json.load(file)\n",
    "\n",
    "    variables_to_extract = ['efficiency_input', 'f', 'i'] \n",
    "    dictionaries = {}\n",
    "    corrected_data_types = {}\n",
    "\n",
    "    for variable, value in data.items():\n",
    "        if variable in variables_to_extract:\n",
    "            dictionaries[variable] = value\n",
    "        elif isinstance(value, list):\n",
    "            if len(value) == 1:\n",
    "                if isinstance(value[0], (int, float)):\n",
    "                    corrected_data_types[variable] = float(value[0])\n",
    "                elif isinstance(value[0], str):\n",
    "                    corrected_data_types[variable] = value[0]\n",
    "        else:\n",
    "            corrected_data_types[variable] = value\n",
    "    return dictionaries, corrected_data_types\n",
    "    \n",
    "\n",
    "def get_user_diet(dictionaries, corrected_data_types):\n",
    "    user_diet = {}\n",
    "    Trg_Dt_DMIn = corrected_data_types['Trg_Dt_DMIn']\n",
    "    feed_input = dictionaries['f']\n",
    "    for feed in feed_input:\n",
    "        user_diet[feed['Fd_Name']] = Trg_Dt_DMIn * (feed['Fd_DMInp'] / 100)\n",
    "    return user_diet\n",
    "\n",
    "\n",
    "def get_animal_input(corrected_data_types):\n",
    "    animal_input_variables = [\n",
    "        'An_Parity_rl', 'Trg_MilkProd', 'An_BW', 'An_BCS', 'An_LactDay', \n",
    "        'Trg_MilkFatp', 'Trg_MilkTPp', 'Trg_MilkLacp', 'Trg_Dt_DMIn', \n",
    "        'An_BW_mature', 'Trg_FrmGain', 'An_GestDay', 'An_GestLength', \n",
    "        'Trg_RsrvGain', 'Fet_BWbrth', 'An_AgeDay', 'An_305RHA_MlkTP', \n",
    "        'An_StatePhys', 'An_Breed', 'An_AgeDryFdStart', 'Env_TempCurr', \n",
    "        'Env_DistParlor', 'Env_TripsParlor', 'Env_Topo'      \n",
    "    ]\n",
    "    animal_input_in = {}\n",
    "    for key in animal_input_variables:\n",
    "        value = corrected_data_types.pop(key, None)\n",
    "        if key == 'Trg_Dt_DMIn':\n",
    "            animal_input_in['DMI'] = value\n",
    "        else:\n",
    "            animal_input_in[key] = value\n",
    "    return animal_input_in, corrected_data_types\n",
    "\n",
    "\n",
    "def get_equation_selection(updated_corrected_data_types):\n",
    "    equation_selection_variables = [\n",
    "        'Use_DNDF_IV', 'DMIn_eqn', 'mProd_eqn', 'MiN_eqn', \n",
    "        'NonMilkCP_ClfLiq', 'Monensin_eqn', 'mPrt_eqn', \n",
    "        'mFat_eqn', 'RumDevDisc_Clf'\n",
    "    ]\n",
    "    equation_selection_in = {}\n",
    "    for key in equation_selection_variables:\n",
    "        equation_selection_in[key] = updated_corrected_data_types.pop(key)\n",
    "    return equation_selection_in, updated_corrected_data_types\n",
    "\n",
    "\n",
    "def create_AA_values(updated_corrected_data_types):\n",
    "    AA_list = [\n",
    "        'Arg', 'His', 'Ile', 'Leu', 'Lys', 'Met', 'Phe', 'Thr', 'Trp', 'Val'\n",
    "        ]\n",
    "    columns = [\n",
    "       'Du_AAMic', 'Du_IdAAMic', 'Du_AAEndP', 'Du_AA', 'DuAA_DtAA', 'Du_AA24h',\n",
    "       'Abs_AA_g', 'mPrtmx_AA', 'mPrtmx_AA2', 'AA_mPrtmx', 'mPrt_AA_0.1',\n",
    "       'mPrt_k_AA', 'IdAA_DtAA', 'Abs_AA_MPp', 'Abs_AA_p', 'Abs_AA_DEI',\n",
    "       'Abs_AA_mol', 'Mlk_AA_g', 'MlkAA_AbsAA', 'MlkAA_DtAA', 'Gest_AA_g',\n",
    "       'GestAA_AbsAA', 'Body_AAGain_g', 'BodyAA_AbsAA', 'An_AAUse_g',\n",
    "       'AnAAUse_AbsAA', 'An_AABal_g', 'An_AAEff_EAAEff', 'Imb_AA',\n",
    "       'Trg_Mlk_AA_g', 'Trg_AAUse_g', 'Trg_AbsAA_g', 'MlkNP_AbsAA',\n",
    "       'AnNPxAA_AbsAA', 'AnNPxAAUser_AbsAA'\n",
    "       ]\n",
    "    AA_values = {}\n",
    "    for column in columns:\n",
    "        AA_values[column] = []\n",
    "        for AA in AA_list:\n",
    "            parts = column.split('EAA')\n",
    "            new_key = 'EAA'.join([part.replace('AA', AA) for part in parts])\n",
    "            value = updated_corrected_data_types.pop(new_key, None)\n",
    "            AA_values[column].append(value)\n",
    "    return AA_values, updated_corrected_data_types\n",
    "\n",
    "\n",
    "def create_arrays(updated_corrected_data_types):\n",
    "    AA_list = [\n",
    "        'Arg', 'His', 'Ile', 'Leu', 'Lys', 'Met', 'Phe', 'Thr', 'Trp', 'Val'\n",
    "        ]\n",
    "    array_names = [\n",
    "        'Fe_AAMet_AbsAA', 'Ur_AAEnd_AbsAA', 'ScrfAA_AbsAA', 'Fe_AAMet_g', \n",
    "        'Ur_AAEnd_g', 'Scrf_AA_g', 'Trg_AbsAA_NPxprtAA', 'Trg_AAEff_EAAEff'\n",
    "    ]\n",
    "    arrays = {}\n",
    "    for name in array_names:\n",
    "        arrays[name] = []\n",
    "        for AA in AA_list:\n",
    "            parts = name.split('EAA')\n",
    "            new_key = 'EAA'.join([part.replace('AA', AA) for part in parts])\n",
    "            value = updated_corrected_data_types.pop(new_key, np.nan)\n",
    "            arrays[name].append(value)\n",
    "    return arrays, updated_corrected_data_types\n",
    "\n",
    "\n",
    "def remove_constants(updated_corrected_data_types):\n",
    "    for key in constants.coeff_dict.keys():\n",
    "        updated_corrected_data_types.pop(key, None)\n",
    "    for key in constants.MP_NP_efficiency_dict.keys():\n",
    "        updated_corrected_data_types.pop(key, None)\n",
    "    mPrt_coeff_dict = constants.mPrt_coeff_list[0]\n",
    "    for key in mPrt_coeff_dict.keys():\n",
    "        updated_corrected_data_types.pop(key, None)\n",
    "    return updated_corrected_data_types\n",
    "\n",
    "\n",
    "def remove_untested_values(updated_corrected_data_types):\n",
    "    # Removed due to differences in Python implementation. R code calculates\n",
    "    # everythin then picks a value. In our code we select the equation and \n",
    "    # only calculate required values. Also inlcudes variables that have no \n",
    "    # use, such as equations selections\n",
    "    values_to_remove = [  \n",
    "        'Abs_EAA2_HILKM_g', 'Abs_EAA2_HILKMT_g', 'Abs_EAA2_RHILKM_g', \n",
    "        'An_AgeConcept1st', 'An_DIMConcept', 'An_GasEOut_Clf', 'An_GasEOut_Dry',\n",
    "        'An_GasEOut_Heif', 'An_GasEOut_Lact', 'An_SWlact', 'An_WaIn_Dry',\n",
    "        'An_WaIn_Lact', 'DietID', 'Dt_DMIn', 'Dt_DMIn_BW_LateGest_i',\n",
    "        'Dt_DMIn_Heif_LateGestInd', 'Dt_DMIn_BW_LateGest_p', 'Dt_DMIn_Calf1',\n",
    "        'Dt_DMIn_DryCow_AdjGest', 'Dt_DMIn_DryCow1', 'Dt_DMIn_DryCow1_Close',\n",
    "        'Dt_DMIn_DryCow1_FarOff', 'Dt_DMIn_DryCow2', 'Dt_DMIn_Heif_H1',\n",
    "        'Dt_DMIn_Heif_H1i', 'Dt_DMIn_Heif_H1p', 'Dt_DMIn_Heif_H2', \n",
    "        'Dt_DMIn_Heif_H2i', 'Dt_DMIn_Heif_H2p', 'Dt_DMIn_Heif_HJ1',\n",
    "        'Dt_DMIn_Heif_HJ1i', 'Dt_DMIn_Heif_HJ1p', 'Dt_DMIn_Heif_HJ2',\n",
    "        'Dt_DMIn_Heif_HJ2i', 'Dt_DMIn_Heif_HJ2p', 'Dt_DMIn_Heif_LateGestPen',\n",
    "        'Dt_DMIn_Heif_NRCa', 'Dt_DMIn_Heif_NRCad', 'Dt_DMIn_Heif_NRCadi',\n",
    "        'Dt_DMIn_Heif_NRCadp', 'Dt_DMIn_Heif_NRCai', 'Dt_DMIn_Heif_NRCap',\n",
    "        'Dt_DMIn_Lact1', 'Dt_DMIn_Lact2', 'Dt_GasEOut_Clf', 'Dt_GasEOut_Dry',\n",
    "        'Dt_GasEOut_Lact', 'Dt_GasEOut_Heif', 'Dt_NDF_drylim', 'Dt_NDFdev_DMI',\n",
    "        'Du_MiN_NRC2021_g', 'Du_MiN_VTln_g', 'Du_MiN_VTnln_g', 'Fd_DMInp_Sum',\n",
    "        'FrmGain_eqn', 'RsrvGain_eqn', 'K_DE_ME_ClfDry', 'K_FeCPend_ClfLiq',\n",
    "        'Ky_ME_NE', 'mLac_eqn', 'mPrt_parmset', 'numFdProp', 'numIngrs',\n",
    "        'RUP_eqn',  'SIDigArgRUPf', 'SIDigHisRUPf', 'SIDigIleRUPf', \n",
    "        'SIDigLeuRUPf', 'SIDigLysRUPf', 'SIDigMetRUPf', 'SIDigPheRUPf', \n",
    "        'SIDigThrRUPf', 'SIDigTrpRUPf', 'SIDigValRUPf', 'Trg_MP_NPxprt', \n",
    "        'Trg_NEmilkOut'\n",
    "    ]\n",
    "    # Variables are missing or have issues with naming/feed library (DNDF48)\n",
    "    values_not_calculated = [\n",
    "        'An_Grazing', 'An_ME_ClfDry', 'An_MEIn_ClfDry', 'An_NE_ClfDry', \n",
    "        'Dt_DE_ClfLiq', 'Dt_ME_ClfLiq',\n",
    "        'Dt_ForDNDF48', 'Dt_ForDNDF48_ForNDF', # Need to fix Fd_DNDF48 in feed library as affecting calculation\n",
    "        'Dt_RUPIn.dt', 'En_OM', 'Kf_ME_RE_Clf', 'Kf_ME_RE_ClfDry', \n",
    "        'Kf_ME_RE_ClfLiq', 'Km_ME_NE_Clf', 'Km_ME_NE_Cow', 'Km_ME_NE_Heif',\n",
    "        'Rsrv_AshGain', 'Trg_Mlk_NP', 'VolSlds2_Milk'\n",
    "        ]\n",
    "    for name in values_to_remove:\n",
    "        updated_corrected_data_types.pop(name, np.nan)\n",
    "    for name in values_not_calculated:\n",
    "        updated_corrected_data_types.pop(name, np.nan)\n",
    "\n",
    "    # Rename key\n",
    "    updated_corrected_data_types['Dt_DigrOMa_Dt'] = updated_corrected_data_types.pop('Dt_DigrOMa.Dt')\n",
    "    return updated_corrected_data_types\n"
   ]
  },
  {
   "cell_type": "code",
   "execution_count": 284,
   "metadata": {},
   "outputs": [],
   "source": [
    "dictionaries, corrected_data_types = load_R_json('./R_values.json')\n",
    "user_diet_in = get_user_diet(dictionaries, corrected_data_types)\n",
    "animal_input_in, updated_corrected_data_types = get_animal_input(corrected_data_types)\n",
    "equation_selection_in, updated_corrected_data_types = get_equation_selection(updated_corrected_data_types)\n",
    "AA_values, updated_corrected_data_types = create_AA_values(updated_corrected_data_types)\n",
    "arrays, updated_corrected_data_types = create_arrays(updated_corrected_data_types)\n",
    "updated_corrected_data_types = remove_constants(updated_corrected_data_types)\n",
    "output_data = remove_untested_values(updated_corrected_data_types)\n"
   ]
  },
  {
   "cell_type": "markdown",
   "metadata": {},
   "source": [
    "## 2. Create JSON Test File"
   ]
  },
  {
   "cell_type": "code",
   "execution_count": 285,
   "metadata": {},
   "outputs": [],
   "source": [
    "def create_test_json(user_diet_in, animal_input_in, equation_selection_in, output_data, AA_values, arrays, file_path):\n",
    "    data = {\n",
    "        \"input\": {\n",
    "            \"user_diet_in\": user_diet_in,\n",
    "            \"animal_input_in\": animal_input_in,\n",
    "            \"equation_selection_in\": equation_selection_in\n",
    "        },\n",
    "        \"output\": {\n",
    "            'output_data': output_data,\n",
    "            'AA_values': AA_values,\n",
    "            'arrays': arrays\n",
    "        }\n",
    "    }\n",
    "    with open(file_path, 'w') as json_file:\n",
    "        json.dump(data, json_file, indent=4)\n",
    "\n",
    "\n",
    "def read_test_json(file_path):\n",
    "    with open(file_path, 'r') as json_file:\n",
    "        data = json.load(json_file)\n",
    "\n",
    "    AA_list = [\n",
    "        'Arg', 'His', 'Ile', 'Leu', 'Lys', 'Met', 'Phe', 'Thr', 'Trp', 'Val'\n",
    "        ]\n",
    "\n",
    "    input_data = data['input']\n",
    "    output = data['output']\n",
    "    user_diet_in = pd.DataFrame(input_data['user_diet_in'].items(), columns=['Feedstuff', 'kg_user'])\n",
    "    animal_input_in = input_data['animal_input_in']\n",
    "    equation_selection_in = input_data['equation_selection_in']\n",
    "    output_data = output['output_data']\n",
    "    AA_values = pd.DataFrame(output['AA_values'], index=AA_list)\n",
    "    AA_values = AA_values.rename(columns={\"mPrt_AA_0.1\": \"mPrt_AA_01\"})\n",
    "    arrays = output['arrays']\n",
    "    for key in arrays.keys():\n",
    "        arrays[key] = np.array(arrays[key])\n",
    "    return user_diet_in, animal_input_in, equation_selection_in, output_data, AA_values, arrays\n"
   ]
  },
  {
   "cell_type": "code",
   "execution_count": 286,
   "metadata": {},
   "outputs": [],
   "source": [
    "create_test_json(user_diet_in, animal_input_in, equation_selection_in, output_data, AA_values, arrays, './demo_end_to_end_test.json')\n"
   ]
  },
  {
   "cell_type": "markdown",
   "metadata": {},
   "source": [
    "# Run End to End Test"
   ]
  },
  {
   "cell_type": "markdown",
   "metadata": {},
   "source": [
    "## 3. Pass Inputs to execute_model"
   ]
  },
  {
   "cell_type": "code",
   "execution_count": 287,
   "metadata": {},
   "outputs": [],
   "source": [
    "user_diet_in, animal_input_in, equation_selection_in, output_data, AA_values, arrays = read_test_json('./demo_end_to_end_test.json')\n",
    "    "
   ]
  },
  {
   "cell_type": "code",
   "execution_count": 288,
   "metadata": {},
   "outputs": [
    {
     "name": "stderr",
     "output_type": "stream",
     "text": [
      "C:\\Users\\Braed\\Python Projects\\NASEM-Model-Python\\src\\nasem_dairy\\NASEM_equations\\micronutrient_requirement_equations.py:1172: RuntimeWarning: invalid value encountered in scalar divide\n",
      "  Dt_acCo = Abs_CoIn / Dt_CoIn  # Line 3230\n"
     ]
    }
   ],
   "source": [
    "path_to_package_data = importlib_resources.files(\"nasem_dairy.data\")\n",
    "feed_library_in = pd.read_csv(path_to_package_data.joinpath(\"NASEM_feed_library.csv\"))\n",
    "\n",
    "output = execute_model(\n",
    "    user_diet=user_diet_in,\n",
    "    animal_input=animal_input_in,\n",
    "    equation_selection=equation_selection_in,\n",
    "    feed_library_df=feed_library_in\n",
    ")\n"
   ]
  },
  {
   "cell_type": "markdown",
   "metadata": {},
   "source": [
    "## 4. Compare to expected_values"
   ]
  },
  {
   "cell_type": "code",
   "execution_count": 289,
   "metadata": {},
   "outputs": [
    {
     "name": "stdout",
     "output_type": "stream",
     "text": [
      "DataFrame keys: ['user_diet', 'diet_info', 'AA_values']\n",
      "Series keys: ['Fe_AAMet_AbsAA', 'Ur_AAEnd_AbsAA', 'ScrfAA_AbsAA', 'f_Imb']\n",
      "Numpy array keys: ['Kg_MP_NP_Trg', 'Fe_CP', 'Fe_AAMet_g', 'Ur_AAEnd_g', 'Scrf_AA_g', 'Inf_Rum', 'Inf_SI', 'Inf_Art', 'Dt_RUPIn', 'Dt_rOMIn', 'TT_dcNDF', 'TT_dcSt', 'Dt_dcCP_ClfDry', 'Dt_DMIn_ClfStrt', 'Dt_acMg', 'Dt_DEIn', 'An_DEIn', 'An_MEIn', 'FatGain_FrmGain', 'Trg_AbsAA_NPxprtAA', 'Trg_AAEff_EAAEff']\n",
      "Dict keys: []\n",
      "List keys: []\n"
     ]
    }
   ],
   "source": [
    "model_output = output.export_to_dict()\n"
   ]
  },
  {
   "cell_type": "markdown",
   "metadata": {},
   "source": [
    "### Run Test"
   ]
  },
  {
   "cell_type": "code",
   "execution_count": 290,
   "metadata": {},
   "outputs": [],
   "source": [
    "import math\n",
    "\n",
    "def end_to_end_test(expected_output, expected_AA_values, expected_arrays, model_output, tolerance=1e-3):\n",
    "    for key, expected_value in expected_output.items():\n",
    "        model_value = model_output[key]\n",
    "        if not isinstance(model_value, str) and not isinstance(expected_value, str):\n",
    "            assert math.isclose(model_value, expected_value, rel_tol=tolerance, abs_tol=tolerance), \\\n",
    "                f\"Mismatch for {key}: {model_value} != {expected_value}\"\n",
    "\n",
    "    model_AA_values = model_output['AA_values']\n",
    "    pd.testing.assert_frame_equal(expected_AA_values, model_AA_values, rtol=tolerance, atol=tolerance)\n",
    "\n",
    "    for key, value in expected_arrays.items():\n",
    "        assert np.allclose(expected_arrays[key], model_output[key], rtol=tolerance, atol=tolerance), \\\n",
    "            f\"Mismatch for {key}: {model_output[key]} != {expected_arrays[key]}\"\n",
    " \n"
   ]
  },
  {
   "cell_type": "code",
   "execution_count": 291,
   "metadata": {},
   "outputs": [],
   "source": [
    "end_to_end_test(output_data, AA_values, arrays, model_output)\n"
   ]
  }
 ],
 "metadata": {
  "kernelspec": {
   "display_name": "NASEM_py_env",
   "language": "python",
   "name": "python3"
  },
  "language_info": {
   "codemirror_mode": {
    "name": "ipython",
    "version": 3
   },
   "file_extension": ".py",
   "mimetype": "text/x-python",
   "name": "python",
   "nbconvert_exporter": "python",
   "pygments_lexer": "ipython3",
   "version": "3.11.7"
  }
 },
 "nbformat": 4,
 "nbformat_minor": 2
}
